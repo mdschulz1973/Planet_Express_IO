{
 "metadata": {
  "language_info": {
   "codemirror_mode": {
    "name": "ipython",
    "version": 3
   },
   "file_extension": ".py",
   "mimetype": "text/x-python",
   "name": "python",
   "nbconvert_exporter": "python",
   "pygments_lexer": "ipython3",
   "version": "3.7.7-final"
  },
  "orig_nbformat": 2,
  "kernelspec": {
   "name": "Python 3.7.7 64-bit ('pyvizenv': conda)",
   "display_name": "Python 3.7.7 64-bit ('pyvizenv': conda)",
   "metadata": {
    "interpreter": {
     "hash": "6d180c226e1fb546a2a1623a132f2a8812479d52f4604fddc733d95b32da65e3"
    }
   }
  }
 },
 "nbformat": 4,
 "nbformat_minor": 2,
 "cells": [
  {
   "cell_type": "code",
   "execution_count": 131,
   "metadata": {},
   "outputs": [],
   "source": [
    "# import python modules\n",
    "\n",
    "import pandas as pd\n",
    "import datetime \n",
    "import requests\n",
    "import os\n",
    "import json\n",
    "from pandas.io.json import json_normalize\n",
    "\n",
    "from dotenv import load_dotenv\n",
    "load_dotenv()\n",
    "\n",
    "import coinbasepro as cbp\n",
    "from coinbase.wallet.client import Client\n",
    "\n",
    "from datetime import datetime\n",
    "\n",
    "%matplotlib inline"
   ]
  },
  {
   "cell_type": "code",
   "execution_count": 132,
   "metadata": {},
   "outputs": [],
   "source": [
    "# read API key from .env file\n",
    "\n",
    "cb_public_key = os.getenv(\"CB_PUBLIC_KEY\")\n",
    "cb_secret_key = os.getenv(\"CB_SECRET_KEY\")\n",
    "client = Client(cb_public_key, cb_secret_key, api_version='YYYY-MM-DD')"
   ]
  },
  {
   "cell_type": "code",
   "execution_count": 133,
   "metadata": {
    "tags": []
   },
   "outputs": [
    {
     "output_type": "stream",
     "name": "stdout",
     "text": [
      "<Response [200]>\n<Response [200]>\n"
     ]
    },
    {
     "output_type": "execute_result",
     "data": {
      "text/plain": [
       "        Date    Low   High   Open  Close         Volume\n",
       "0 2020-10-30  52.27  55.81  54.93  54.08  166459.432647\n",
       "1 2020-10-29  53.44  56.55  55.84  54.94  188062.917559\n",
       "2 2020-10-28  54.71  60.90  57.81  55.84  257032.538105\n",
       "3 2020-10-27  56.51  59.10  56.83  58.18  173980.762376\n",
       "4 2020-10-26  55.00  59.35  58.88  56.89  238259.336938"
      ],
      "text/html": "<div>\n<style scoped>\n    .dataframe tbody tr th:only-of-type {\n        vertical-align: middle;\n    }\n\n    .dataframe tbody tr th {\n        vertical-align: top;\n    }\n\n    .dataframe thead th {\n        text-align: right;\n    }\n</style>\n<table border=\"1\" class=\"dataframe\">\n  <thead>\n    <tr style=\"text-align: right;\">\n      <th></th>\n      <th>Date</th>\n      <th>Low</th>\n      <th>High</th>\n      <th>Open</th>\n      <th>Close</th>\n      <th>Volume</th>\n    </tr>\n  </thead>\n  <tbody>\n    <tr>\n      <th>0</th>\n      <td>2020-10-30</td>\n      <td>52.27</td>\n      <td>55.81</td>\n      <td>54.93</td>\n      <td>54.08</td>\n      <td>166459.432647</td>\n    </tr>\n    <tr>\n      <th>1</th>\n      <td>2020-10-29</td>\n      <td>53.44</td>\n      <td>56.55</td>\n      <td>55.84</td>\n      <td>54.94</td>\n      <td>188062.917559</td>\n    </tr>\n    <tr>\n      <th>2</th>\n      <td>2020-10-28</td>\n      <td>54.71</td>\n      <td>60.90</td>\n      <td>57.81</td>\n      <td>55.84</td>\n      <td>257032.538105</td>\n    </tr>\n    <tr>\n      <th>3</th>\n      <td>2020-10-27</td>\n      <td>56.51</td>\n      <td>59.10</td>\n      <td>56.83</td>\n      <td>58.18</td>\n      <td>173980.762376</td>\n    </tr>\n    <tr>\n      <th>4</th>\n      <td>2020-10-26</td>\n      <td>55.00</td>\n      <td>59.35</td>\n      <td>58.88</td>\n      <td>56.89</td>\n      <td>238259.336938</td>\n    </tr>\n  </tbody>\n</table>\n</div>"
     },
     "metadata": {},
     "execution_count": 133
    }
   ],
   "source": [
    "def datapull(startDay, endDay, myCrypto):\n",
    "    \n",
    "    params = {\"start\" : startDay, \"end\" : endDay, \"granularity\" : \"86400\"}\n",
    "    \n",
    "    url = f\"https://api.pro.coinbase.com/products/{myCrypto}-USD/candles\"\n",
    "\n",
    "    requests.get(url)\n",
    "    response_data_btc = requests.get(url, params=params)\n",
    "    response_content_btc = response_data_btc\n",
    "    print(response_content_btc)\n",
    "    data_btc = response_data_btc.json()\n",
    "        \n",
    "\n",
    "    data_btc_df = pd.DataFrame(data_btc)\n",
    "    data_btc_df.columns = [\"Date\", \"Low\", \"High\", \"Open\", \"Close\", \"Volume\"]\n",
    "    data_btc_df[\"Date\"]= pd.to_datetime(data_btc_df['Date'],unit='s')\n",
    "    data_btc_df\n",
    "    return data_btc_df\n",
    "\n",
    "crypyto =\"LTC\"\n",
    "batch1 = datapull(\"2020-01-05T12:00:00\",\"2020-10-30T12:00:00\",crypyto)\n",
    "\n",
    "batch2 = datapull(\"2019-10-05T12:00:00\",\"2020-01-05T12:00:00\",crypyto)\n",
    "\n",
    "batch_combined = pd.concat([batch1,batch2], axis=\"rows\", join=\"inner\")\n",
    "\n",
    "\n",
    "batch_combined.drop_duplicates()\n",
    "\n",
    "batch_combined = batch_combined.iloc[0:365]\n",
    "\n",
    "batch_combined.to_csv(f\"output_batch_combined_{crypyto}.csv\")\n",
    "\n",
    "batch_combined.head()\n"
   ]
  },
  {
   "cell_type": "code",
   "execution_count": 134,
   "metadata": {
    "tags": [
     "outputPrepend"
    ]
   },
   "outputs": [
    {
     "output_type": "stream",
     "name": "stdout",
     "text": [
      "     9376.14,\n        9301.91,\n        7871.9637482\n    ],\n    [\n        1592438400,\n        9267.18,\n        9482.66,\n        9457.51,\n        9376.14,\n        6300.5664912\n    ],\n    [\n        1592352000,\n        9227.03,\n        9558.48,\n        9526.25,\n        9457.51,\n        8937.92623229\n    ],\n    [\n        1592265600,\n        9381,\n        9592.04,\n        9432.57,\n        9526.25,\n        10345.29526997\n    ],\n    [\n        1592179200,\n        8895.01,\n        9499,\n        9328.63,\n        9432.53,\n        18589.28586581\n    ],\n    [\n        1592092800,\n        9240,\n        9481,\n        9475,\n        9325,\n        4829.79726322\n    ],\n    [\n        1592006400,\n        9346,\n        9494.45,\n        9464.71,\n        9475,\n        4581.79206303\n    ],\n    [\n        1591920000,\n        9227,\n        9552.87,\n        9268.16,\n        9464.17,\n        10992.51647836\n    ],\n    [\n        1591833600,\n        9050,\n        9973.25,\n        9894.35,\n        9268.16,\n        26779.8793933\n    ],\n    [\n        1591747200,\n        9690,\n        10018.67,\n        9779.7,\n        9894.04,\n        12965.42597405\n    ],\n    [\n        1591660800,\n        9567.33,\n        9886,\n        9781.51,\n        9779.41,\n        10329.87714811\n    ],\n    [\n        1591574400,\n        9632.79,\n        9815,\n        9750.12,\n        9781.51,\n        8533.83614916\n    ],\n    [\n        1591488000,\n        9370,\n        9822,\n        9670.28,\n        9750.12,\n        11628.94527829\n    ],\n    [\n        1591401600,\n        9526.03,\n        9735.13,\n        9613.42,\n        9671.7,\n        6501.31731671\n    ],\n    [\n        1591315200,\n        9585.44,\n        9855,\n        9791.96,\n        9613.21,\n        12495.89785858\n    ],\n    [\n        1591228800,\n        9450,\n        9888,\n        9668.06,\n        9788.03,\n        12441.27298837\n    ],\n    [\n        1591142400,\n        9385.22,\n        9695,\n        9521.53,\n        9668.07,\n        11446.72193696\n    ],\n    [\n        1591056000,\n        9270,\n        10237.6,\n        10208.96,\n        9522.46,\n        33220.58268645\n    ],\n    [\n        1590969600,\n        9417.42,\n        10428,\n        9445.83,\n        10208.96,\n        21676.60828748\n    ],\n    [\n        1590883200,\n        9369.58,\n        9705.6,\n        9700.32,\n        9446.57,\n        7944.71669301\n    ],\n    [\n        1590796800,\n        9326.43,\n        9764,\n        9423.85,\n        9700.33,\n        10509.69814742\n    ],\n    [\n        1590710400,\n        9330.01,\n        9609.02,\n        9580.01,\n        9423.84,\n        10415.42644355\n    ],\n    [\n        1590624000,\n        9112,\n        9625,\n        9208.53,\n        9580.19,\n        14511.07649252\n    ],\n    [\n        1590537600,\n        8811.46,\n        9230,\n        8844.41,\n        9208.53,\n        10936.67835282\n    ],\n    [\n        1590451200,\n        8694.23,\n        9016.99,\n        8900,\n        8844.42,\n        11507.43097855\n    ],\n    [\n        1590364800,\n        8632.93,\n        8977,\n        8715.69,\n        8899.31,\n        12328.24203695\n    ],\n    [\n        1590278400,\n        8680.7,\n        9306.23,\n        9181.09,\n        8715.73,\n        13004.34567862\n    ],\n    [\n        1590192000,\n        9090.11,\n        9313.83,\n        9168.84,\n        9181.76,\n        6878.84791748\n    ],\n    [\n        1590105600,\n        8923.5,\n        9267.34,\n        9059.32,\n        9168.84,\n        13731.91887098\n    ],\n    [\n        1590019200,\n        8800,\n        9568,\n        9509.4,\n        9061.96,\n        28081.22890941\n    ],\n    [\n        1589932800,\n        9294.54,\n        9836.99,\n        9783.57,\n        9509.41,\n        16895.54925055\n    ],\n    [\n        1589846400,\n        9463.22,\n        9898,\n        9728.52,\n        9783.76,\n        15229.62610784\n    ],\n    [\n        1589760000,\n        9436.97,\n        9957.25,\n        9677.45,\n        9728.52,\n        17710.29958398\n    ],\n    [\n        1589673600,\n        9325.81,\n        9896,\n        9380.01,\n        9676.63,\n        13540.66294076\n    ],\n    [\n        1589587200,\n        9215.01,\n        9594.99,\n        9312.1,\n        9383.16,\n        10782.32773503\n    ],\n    [\n        1589500800,\n        9120,\n        9849,\n        9795.34,\n        9312.1,\n        25180.97967322\n    ],\n    [\n        1589414400,\n        9257.15,\n        9943.93,\n        9320.85,\n        9795.34,\n        28752.36041568\n    ],\n    [\n        1589328000,\n        8803.97,\n        9420.18,\n        8821.41,\n        9321.26,\n        21357.63022841\n    ],\n    [\n        1589241600,\n        8534.85,\n        8982.9,\n        8572.4,\n        8821.42,\n        20219.23699186\n    ],\n    [\n        1589155200,\n        8185,\n        9182.66,\n        8729.86,\n        8572.4,\n        39999.37731433\n    ],\n    [\n        1589068800,\n        8106.7,\n        9559.98,\n        9537.21,\n        8729.86,\n        50909.84429757\n    ],\n    [\n        1588982400,\n        9521,\n        9920.73,\n        9810.01,\n        9537.21,\n        17931.1748552\n    ],\n    [\n        1588896000,\n        9730,\n        10049,\n        10000.37,\n        9810,\n        26363.71688893\n    ],\n    [\n        1588809600,\n        9028.89,\n        10079,\n        9155.79,\n        10004.77,\n        39447.57511824\n    ],\n    [\n        1588723200,\n        8922.13,\n        9418,\n        9028.78,\n        9155.79,\n        27650.87868274\n    ],\n    [\n        1588636800,\n        8769.69,\n        9126.27,\n        8887.81,\n        9028.79,\n        16392.29936609\n    ],\n    [\n        1588550400,\n        8533.98,\n        8970,\n        8907.85,\n        8883.53,\n        18380.62654424\n    ],\n    [\n        1588464000,\n        8731.01,\n        9203.52,\n        8984.69,\n        8909.95,\n        17147.65372312\n    ],\n    [\n        1588377600,\n        8762.01,\n        9025,\n        8829.42,\n        8985.58,\n        10539.26528999\n    ],\n    [\n        1588291200,\n        8622.72,\n        9075.98,\n        8624.68,\n        8829.42,\n        21660.21988892\n    ],\n    [\n        1588204800,\n        8407,\n        9478.66,\n        8794.99,\n        8624.28,\n        44843.9646793\n    ],\n    [\n        1588118400,\n        7720,\n        8988,\n        7757.18,\n        8793.75,\n        48689.75030108\n    ],\n    [\n        1588032000,\n        7672,\n        7794.74,\n        7789.77,\n        7755.01,\n        10984.76643504\n    ],\n    [\n        1587945600,\n        7635.69,\n        7810.99,\n        7706.4,\n        7789.77,\n        15455.7361195\n    ],\n    [\n        1587859200,\n        7490,\n        7715,\n        7547.61,\n        7706.4,\n        9292.64077746\n    ],\n    [\n        1587772800,\n        7437.94,\n        7720,\n        7514.99,\n        7547.61,\n        7443.79619621\n    ],\n    [\n        1587686400,\n        7390,\n        7612.24,\n        7491.5,\n        7514.64,\n        13764.56695369\n    ],\n    [\n        1587600000,\n        7031.14,\n        7775,\n        7136.81,\n        7488.83,\n        22759.36481812\n    ],\n    [\n        1587513600,\n        6826,\n        7167.37,\n        6853.67,\n        7136.84,\n        13141.14072302\n    ],\n    [\n        1587427200,\n        6776,\n        6959,\n        6837.22,\n        6853.68,\n        14467.84248756\n    ],\n    [\n        1587340800,\n        6748.72,\n        7227.11,\n        7130.7,\n        6838.19,\n        18396.60555727\n    ],\n    [\n        1587254400,\n        7063.02,\n        7275,\n        7262.04,\n        7130.71,\n        8887.88875146\n    ],\n    [\n        1587168000,\n        7021,\n        7308,\n        7036.45,\n        7261.76,\n        11510.52116868\n    ],\n    [\n        1587081600,\n        7000,\n        7156.66,\n        7114.76,\n        7037.46,\n        13514.57644149\n    ],\n    [\n        1586995200,\n        6456,\n        7217.27,\n        6623.62,\n        7112.64,\n        28117.55707545\n    ],\n    [\n        1586908800,\n        6605.89,\n        6940,\n        6876.92,\n        6624.12,\n        14753.81361034\n    ],\n    [\n        1586822400,\n        6771.41,\n        6997.38,\n        6860.51,\n        6877.37,\n        12868.6061641\n    ],\n    [\n        1586736000,\n        6555,\n        6908.13,\n        6908.12,\n        6861.21,\n        22323.76661709\n    ],\n    [\n        1586649600,\n        6787.44,\n        7200,\n        6889.78,\n        6908.13,\n        12733.98839119\n    ],\n    [\n        1586563200,\n        6775,\n        6955,\n        6871.83,\n        6889.65,\n        8066.07536876\n    ],\n    [\n        1586476800,\n        6750,\n        7305.91,\n        7293.23,\n        6871.91,\n        19671.19020798\n    ],\n    [\n        1586390400,\n        7110,\n        7377,\n        7370.38,\n        7293.24,\n        12369.84267516\n    ],\n    [\n        1586304000,\n        7154.22,\n        7430,\n        7200.01,\n        7370.11,\n        15429.12191833\n    ],\n    [\n        1586217600,\n        7073,\n        7466,\n        7341.55,\n        7200.01,\n        22743.06622044\n    ],\n    [\n        1586131200,\n        6773.28,\n        7373.37,\n        6778.64,\n        7341.56,\n        27992.01318781\n    ],\n    [\n        1586044800,\n        6681,\n        6925,\n        6874.77,\n        6778.25,\n        8962.91059819\n    ],\n    [\n        1585958400,\n        6658.16,\n        7025.53,\n        6741.99,\n        6874.77,\n        10217.67907796\n    ],\n    [\n        1585872000,\n        6606.06,\n        7050,\n        6804.24,\n        6741.99,\n        14953.17963657\n    ],\n    [\n        1585785600,\n        6570.92,\n        7292.11,\n        6666.11,\n        6804.52,\n        28761.00804113\n    ],\n    [\n        1585699200,\n        6160,\n        6744.99,\n        6424.02,\n        6666.11,\n        17900.2508585\n    ],\n    [\n        1585612800,\n        6333.91,\n        6524.79,\n        6406.4,\n        6424.35,\n        11939.0253308\n    ],\n    [\n        1585526400,\n        5853,\n        6631.23,\n        5878.98,\n        6406.4,\n        23659.80264153\n    ],\n    [\n        1585440000,\n        5870.46,\n        6279.96,\n        6251.45,\n        5877.21,\n        16111.23637843\n    ],\n    [\n        1585353600,\n        6030,\n        6372.36,\n        6372.36,\n        6251.82,\n        20353.8748456\n    ],\n    [\n        1585267200,\n        6260,\n        6880,\n        6760,\n        6372.36,\n        20458.24402051\n    ],\n    [\n        1585180800,\n        6520.13,\n        6795,\n        6691.71,\n        6758.18,\n        17456.11705058\n    ],\n    [\n        1585094400,\n        6470,\n        6983.31,\n        6766,\n        6690.96,\n        31266.36827545\n    ],\n    [\n        1585008000,\n        6403.16,\n        6866.1,\n        6493.58,\n        6766.64,\n        40618.19870698\n    ],\n    [\n        1584921600,\n        5678.2,\n        6641.03,\n        5815.24,\n        6490.63,\n        42437.97070062\n    ],\n    [\n        1584835200,\n        5738,\n        6420,\n        6198.64,\n        5818.25,\n        28089.48698286\n    ],\n    [\n        1584748800,\n        5851,\n        6470,\n        6210.47,\n        6198.78,\n        23514.96653599\n    ],\n    [\n        1584662400,\n        5657,\n        6990,\n        6183.82,\n        6206.1,\n        53024.40103701\n    ],\n    [\n        1584576000,\n        5261.69,\n        6441.37,\n        5413.88,\n        6186.26,\n        54666.67461085\n    ],\n    [\n        1584489600,\n        5001,\n        5452.82,\n        5331.71,\n        5413.64,\n        37513.03523454\n    ],\n    [\n        1584403200,\n        4935.6,\n        5569.44,\n        5039.95,\n        5331.71,\n        44347.15487325\n    ],\n    [\n        1584316800,\n        4432.3,\n        5350.3,\n        5346.86,\n        5037.61,\n        80184.03685247\n    ],\n    [\n        1584230400,\n        5085.91,\n        5985,\n        5161.16,\n        5345.35,\n        43763.76236813\n    ],\n    [\n        1584144000,\n        5050,\n        5669,\n        5630.93,\n        5165.25,\n        32760.12278053\n    ],\n    [\n        1584057600,\n        3858,\n        5995,\n        4857.1,\n        5637.6,\n        130316.64684438\n    ],\n    [\n        1583971200,\n        4644,\n        7969.45,\n        7938.05,\n        4857.1,\n        113902.20332904\n    ],\n    [\n        1583884800,\n        7583.27,\n        7987.97,\n        7894.68,\n        7938.05,\n        13647.86513876\n    ],\n    [\n        1583798400,\n        7733.56,\n        8158.25,\n        7934.56,\n        7894.68,\n        17172.47130109\n    ],\n    [\n        1583712000,\n        7630,\n        8187.03,\n        8037.73,\n        7934.52,\n        25563.61417462\n    ],\n    [\n        1583625600,\n        8002.2,\n        8901.37,\n        8901.36,\n        8037.76,\n        16591.91410216\n    ],\n    [\n        1583539200,\n        8850.47,\n        9214.67,\n        9158.51,\n        8901.37,\n        6478.25334502\n    ],\n    [\n        1583452800,\n        9000.01,\n        9182.08,\n        9070.18,\n        9158.51,\n        6422.12885254\n    ],\n    [\n        1583366400,\n        8759.99,\n        9174.24,\n        8759.99,\n        9070.17,\n        10073.31421239\n    ],\n    [\n        1583280000,\n        8670.57,\n        8847,\n        8757.83,\n        8760.66,\n        5688.58509691\n    ],\n    [\n        1583193600,\n        8635.31,\n        8927.45,\n        8919.21,\n        8757.84,\n        9152.7069265\n    ],\n    [\n        1583107200,\n        8487.33,\n        8973.45,\n        8522.3,\n        8915,\n        10216.69254477\n    ],\n    [\n        1583020800,\n        8400,\n        8752.34,\n        8523.33,\n        8522.31,\n        7353.13960471\n    ],\n    [\n        1582934400,\n        8520.67,\n        8799,\n        8708.61,\n        8525.07,\n        5142.70830477\n    ],\n    [\n        1582848000,\n        8428.8,\n        8899.94,\n        8814.9,\n        8708.89,\n        13643.28590301\n    ],\n    [\n        1582761600,\n        8520,\n        8972.92,\n        8778.3,\n        8812.49,\n        14781.02020263\n    ],\n    [\n        1582675200,\n        8602,\n        9375.36,\n        9304.99,\n        8778.3,\n        21610.46289952\n    ],\n    [\n        1582588800,\n        9230,\n        9681.56,\n        9660,\n        9305,\n        9370.80406077\n    ],\n    [\n        1582502400,\n        9474.74,\n        10030,\n        9965,\n        9660,\n        11274.83220813\n    ],\n    [\n        1582416000,\n        9667.13,\n        10025.66,\n        9668.23,\n        9965.01,\n        5631.93728472\n    ],\n    [\n        1582329600,\n        9575.01,\n        9722.97,\n        9695.66,\n        9668.23,\n        3301.24362823\n    ],\n    [\n        1582243200,\n        9566.98,\n        9769.66,\n        9610.05,\n        9695.66,\n        7073.36617743\n    ],\n    [\n        1582156800,\n        9393.39,\n        9698.1,\n        9593.48,\n        9610.05,\n        12382.01006133\n    ],\n    [\n        1582070400,\n        9280.98,\n        10315,\n        10188.04,\n        9600.08,\n        16637.05014888\n    ],\n    [\n        1581984000,\n        9610.27,\n        10298.25,\n        9700,\n        10188.04,\n        11606.56132767\n    ],\n    [\n        1581897600,\n        9467,\n        9969.38,\n        9920.52,\n        9700,\n        10144.62802455\n    ],\n    [\n        1581811200,\n        9612.12,\n        10048.34,\n        9911.22,\n        9921,\n        9430.32887897\n    ],\n    [\n        1581724800,\n        9750,\n        10400,\n        10371.33,\n        9911.22,\n        12323.28859704\n    ],\n    [\n        1581638400,\n        10102.5,\n        10395.66,\n        10236.49,\n        10371.33,\n        8026.49620683\n    ],\n    [\n        1581552000,\n        10083.1,\n        10522.51,\n        10351.13,\n        10236.49,\n        17101.28534969\n    ],\n    [\n        1581465600,\n        10250,\n        10483.86,\n        10270.01,\n        10351.13,\n        13740.9848527\n    ],\n    [\n        1581379200,\n        9706,\n        10400,\n        9851.78,\n        10270.01,\n        16722.06581913\n    ],\n    [\n        1581292800,\n        9736,\n        10199,\n        10168.36,\n        9851.78,\n        13249.58715176\n    ],\n    [\n        1581206400,\n        9888.76,\n        10178.91,\n        9905.64,\n        10168.35,\n        9649.74938704\n    ],\n    [\n        1581120000,\n        9653.47,\n        9955,\n        9807.92,\n        9905.64,\n        8100.97112281\n    ],\n    [\n        1581033600,\n        9713.99,\n        9885,\n        9763.01,\n        9808.05,\n        8516.62840515\n    ],\n    [\n        1580947200,\n        9521.47,\n        9857,\n        9613.91,\n        9763.01,\n        12672.13678163\n    ],\n    [\n        1580860800,\n        9150,\n        9769.7,\n        9164.33,\n        9613.82,\n        13267.06193659\n    ],\n    [\n        1580774400,\n        9078.05,\n        9350,\n        9280.49,\n        9164.33,\n        8190.74898707\n    ],\n    [\n        1580688000,\n        9220,\n        9619.95,\n        9325.01,\n        9280.49,\n        11910.28572971\n    ],\n    [\n        1580601600,\n        9140,\n        9480,\n        9380.18,\n        9323.5,\n        7307.92291459\n    ],\n    [\n        1580515200,\n        9285.01,\n        9458.08,\n        9334.98,\n        9380.18,\n        4387.41986202\n    ],\n    [\n        1580428800,\n        9195.49,\n        9522.5,\n        9502.71,\n        9334.98,\n        9719.06131452\n    ],\n    [\n        1580342400,\n        9171.11,\n        9574.68,\n        9287.9,\n        9503.08,\n        12948.39766745\n    ],\n    [\n        1580256000,\n        9224.75,\n        9439.83,\n        9391.14,\n        9288.44,\n        12233.05063864\n    ],\n    [\n        1580169600,\n        8880.87,\n        9418.91,\n        8895.95,\n        9394.5,\n        17578.54006083\n    ],\n    [\n        1580083200,\n        8556.6,\n        8985,\n        8595,\n        8895.96,\n        9548.60475006\n    ],\n    [\n        1579996800,\n        8278.68,\n        8595,\n        8326.8,\n        8595,\n        5497.32293973\n    ],\n    [\n        1579910400,\n        8252.73,\n        8437.76,\n        8427.58,\n        8326.81,\n        3783.20831697\n    ],\n    [\n        1579824000,\n        8216.71,\n        8509.99,\n        8385.21,\n        8427.26,\n        8634.96792308\n    ],\n    [\n        1579737600,\n        8278,\n        8665,\n        8660.38,\n        8385.22,\n        12206.24491133\n    ],\n    [\n        1579651200,\n        8565,\n        8791.76,\n        8722.03,\n        8660.38,\n        5481.36960818\n    ],\n    [\n        1579564800,\n        8465,\n        8774.31,\n        8628.89,\n        8722.03,\n        7520.65103045\n    ],\n    [\n        1579478400,\n        8504.06,\n        8734.84,\n        8697.53,\n        8628.89,\n        5605.80561385\n    ],\n    [\n        1579392000,\n        8465,\n        9194.99,\n        8908.95,\n        8697.53,\n        15218.51476182\n    ],\n    [\n        1579305600,\n        8800.1,\n        8980,\n        8899.42,\n        8909.32,\n        5600.21827844\n    ],\n    [\n        1579219200,\n        8665.67,\n        9013,\n        8714.77,\n        8899.42,\n        15447.36512517\n    ],\n    [\n        1579132800,\n        8580,\n        8850,\n        8808.81,\n        8714.76,\n        9265.76423506\n    ],\n    [\n        1579046400,\n        8550,\n        8900,\n        8812.58,\n        8808.81,\n        14977.61979023\n    ],\n    [\n        1578960000,\n        8105.23,\n        8893.69,\n        8105.6,\n        8815.69,\n        27075.8082207\n    ],\n    [\n        1578873600,\n        8041.95,\n        8195.81,\n        8180.81,\n        8104.5,\n        6678.02840315\n    ],\n    [\n        1578787200,\n        7963.25,\n        8185,\n        8017.47,\n        8180.81,\n        3920.74009838\n    ],\n    [\n        1578700800,\n        8000.01,\n        8290,\n        8198.09,\n        8020,\n        7557.36879269\n    ],\n    [\n        1578614400,\n        7671,\n        8199.77,\n        7813.78,\n        8198.09,\n        13419.69851238\n    ],\n    [\n        1578528000,\n        7744.48,\n        8048.67,\n        8047.75,\n        7813.78,\n        9477.65983784\n    ],\n    [\n        1578441600,\n        7845,\n        8469.39,\n        8160.01,\n        8045.51,\n        23927.67532995\n    ],\n    [\n        1578355200,\n        7723,\n        8216,\n        7764.63,\n        8158.52,\n        19857.45754518\n    ],\n    [\n        1578268800,\n        7343.17,\n        7805,\n        7355.4,\n        7764.63,\n        11770.42968139\n    ]\n]\n"
     ]
    }
   ],
   "source": [
    "# read url to collect historic price data in json format for cryptos using requests\n",
    "params = {\"start\" : \"2020-01-05T12:00:00\", \"end\" : \"2020-10-30T12:00:00\", \"granularity\" : \"86400\"}\n",
    "\n",
    "url = \"https://api.pro.coinbase.com/products/BTC-USD/candles\"\n",
    "\n",
    "requests.get(url)\n",
    "response_data_btc = requests.get(url, params=params)\n",
    "response_content_btc = response_data_btc\n",
    "print(response_content_btc)\n",
    "data_btc = response_data_btc.json()\n",
    "print(json.dumps(data_btc,indent=4))\n",
    "\n"
   ]
  },
  {
   "cell_type": "code",
   "execution_count": 135,
   "metadata": {},
   "outputs": [],
   "source": [
    "# writing json file to a disk to be converted to df\n",
    "\n",
    "with open(\"data_btc\", \"w\") as write_file:\n",
    "    json.dump(data_btc, write_file)\n",
    "\n",
    "data_btc_df = pd.DataFrame(data_btc)\n",
    "\n",
    "data_btc_df.columns = [\"Date\", \"Low\", \"High\", \"Open\", \"Close\", \"Volume\"]"
   ]
  },
  {
   "cell_type": "code",
   "execution_count": 136,
   "metadata": {},
   "outputs": [],
   "source": [
    "# Convert Unix timestamp to standard date value\n",
    "\n",
    "data_btc_df[\"Date\"]= pd.to_datetime(data_btc_df['Date'],unit='s')"
   ]
  },
  {
   "cell_type": "code",
   "execution_count": 137,
   "metadata": {},
   "outputs": [
    {
     "output_type": "execute_result",
     "data": {
      "text/plain": [
       "        Date       Low      High      Open     Close        Volume\n",
       "0 2020-10-30  13131.31  13687.82  13460.00  13571.51  15664.290475\n",
       "1 2020-10-29  12976.29  13650.00  13281.06  13460.00  15796.076677\n",
       "2 2020-10-28  12891.57  13863.87  13740.85  13281.05  21073.376678\n",
       "3 2020-10-27  13061.28  13793.72  13068.79  13698.18  17267.439678\n",
       "4 2020-10-26  12785.00  13250.00  13045.02  13068.79  12275.358260"
      ],
      "text/html": "<div>\n<style scoped>\n    .dataframe tbody tr th:only-of-type {\n        vertical-align: middle;\n    }\n\n    .dataframe tbody tr th {\n        vertical-align: top;\n    }\n\n    .dataframe thead th {\n        text-align: right;\n    }\n</style>\n<table border=\"1\" class=\"dataframe\">\n  <thead>\n    <tr style=\"text-align: right;\">\n      <th></th>\n      <th>Date</th>\n      <th>Low</th>\n      <th>High</th>\n      <th>Open</th>\n      <th>Close</th>\n      <th>Volume</th>\n    </tr>\n  </thead>\n  <tbody>\n    <tr>\n      <th>0</th>\n      <td>2020-10-30</td>\n      <td>13131.31</td>\n      <td>13687.82</td>\n      <td>13460.00</td>\n      <td>13571.51</td>\n      <td>15664.290475</td>\n    </tr>\n    <tr>\n      <th>1</th>\n      <td>2020-10-29</td>\n      <td>12976.29</td>\n      <td>13650.00</td>\n      <td>13281.06</td>\n      <td>13460.00</td>\n      <td>15796.076677</td>\n    </tr>\n    <tr>\n      <th>2</th>\n      <td>2020-10-28</td>\n      <td>12891.57</td>\n      <td>13863.87</td>\n      <td>13740.85</td>\n      <td>13281.05</td>\n      <td>21073.376678</td>\n    </tr>\n    <tr>\n      <th>3</th>\n      <td>2020-10-27</td>\n      <td>13061.28</td>\n      <td>13793.72</td>\n      <td>13068.79</td>\n      <td>13698.18</td>\n      <td>17267.439678</td>\n    </tr>\n    <tr>\n      <th>4</th>\n      <td>2020-10-26</td>\n      <td>12785.00</td>\n      <td>13250.00</td>\n      <td>13045.02</td>\n      <td>13068.79</td>\n      <td>12275.358260</td>\n    </tr>\n  </tbody>\n</table>\n</div>"
     },
     "metadata": {},
     "execution_count": 137
    }
   ],
   "source": [
    "# read first batch of 300 candles(days) for BTC\n",
    "\n",
    "data_btc_df.head()"
   ]
  },
  {
   "cell_type": "code",
   "execution_count": 138,
   "metadata": {
    "tags": []
   },
   "outputs": [
    {
     "output_type": "stream",
     "name": "stdout",
     "text": [
      "<Response [404]>\n{\n    \"message\": \"Route not found\"\n}\n"
     ]
    },
    {
     "output_type": "error",
     "ename": "AttributeError",
     "evalue": "'dict' object has no attribute 'head'",
     "traceback": [
      "\u001b[0;31m---------------------------------------------------------------------------\u001b[0m",
      "\u001b[0;31mAttributeError\u001b[0m                            Traceback (most recent call last)",
      "\u001b[0;32m<ipython-input-138-065250accf79>\u001b[0m in \u001b[0;36m<module>\u001b[0;34m\u001b[0m\n\u001b[1;32m      9\u001b[0m \u001b[0mdata_btc_batch_two\u001b[0m \u001b[0;34m=\u001b[0m \u001b[0mresponse_data_btc_batch_two\u001b[0m\u001b[0;34m.\u001b[0m\u001b[0mjson\u001b[0m\u001b[0;34m(\u001b[0m\u001b[0;34m)\u001b[0m\u001b[0;34m\u001b[0m\u001b[0;34m\u001b[0m\u001b[0m\n\u001b[1;32m     10\u001b[0m \u001b[0mprint\u001b[0m\u001b[0;34m(\u001b[0m\u001b[0mjson\u001b[0m\u001b[0;34m.\u001b[0m\u001b[0mdumps\u001b[0m\u001b[0;34m(\u001b[0m\u001b[0mdata_btc_batch_two\u001b[0m\u001b[0;34m,\u001b[0m\u001b[0mindent\u001b[0m\u001b[0;34m=\u001b[0m\u001b[0;36m4\u001b[0m\u001b[0;34m)\u001b[0m\u001b[0;34m)\u001b[0m\u001b[0;34m\u001b[0m\u001b[0;34m\u001b[0m\u001b[0m\n\u001b[0;32m---> 11\u001b[0;31m \u001b[0mdata_btc_batch_two\u001b[0m\u001b[0;34m.\u001b[0m\u001b[0mhead\u001b[0m\u001b[0;34m(\u001b[0m\u001b[0;34m)\u001b[0m\u001b[0;34m\u001b[0m\u001b[0;34m\u001b[0m\u001b[0m\n\u001b[0m",
      "\u001b[0;31mAttributeError\u001b[0m: 'dict' object has no attribute 'head'"
     ]
    }
   ],
   "source": [
    "params = {\"start\" : \"2019-10-01T12:00:00\", \"end\" : \"2020-01-05T12:00:00\", \"granularity\" : \"86400\"}\n",
    "\n",
    "url = \"https://api.pro.coinbase.com/products/BTC-USD//candles\"\n",
    "\n",
    "requests.get(url)\n",
    "response_data_btc_batch_two = requests.get(url, params=params)\n",
    "response_content_btc_batch_two = response_data_btc_batch_two\n",
    "print(response_content_btc_batch_two)\n",
    "data_btc_batch_two = response_data_btc_batch_two.json()\n",
    "print(json.dumps(data_btc_batch_two,indent=4))\n",
    "data_btc_batch_two.head()"
   ]
  },
  {
   "cell_type": "code",
   "execution_count": 21,
   "metadata": {},
   "outputs": [],
   "source": [
    "with open(\"data_btc_batch_two\", \"w\") as write_file:\n",
    "    json.dump(data_btc_batch_two, write_file)\n",
    "\n",
    "data_btc_batch_two_df = pd.DataFrame(data_btc_batch_two)\n",
    "\n",
    "data_btc_batch_two_df.columns = [\"Date\", \"Low\", \"High\", \"Open\", \"Close\", \"Volume\"]\n",
    "\n",
    "data_btc_batch_two_df[\"Date\"]= pd.to_datetime(data_btc_batch_two_df['Date'],unit='s')"
   ]
  },
  {
   "cell_type": "code",
   "execution_count": 22,
   "metadata": {},
   "outputs": [
    {
     "output_type": "execute_result",
     "data": {
      "text/plain": [
       "        Date      Low     High     Open    Close        Volume\n",
       "0 2020-01-05  7312.22  7488.87  7348.63  7355.40   5942.014946\n",
       "1 2020-01-04  7263.32  7398.00  7334.45  7348.63   4742.466210\n",
       "2 2020-01-03  6854.67  7401.20  6945.02  7334.45  14056.392385\n",
       "3 2020-01-02  6903.00  7186.18  7174.33  6945.02   8010.927387\n",
       "4 2020-01-01  7136.05  7238.14  7165.72  7174.33   3350.630049"
      ],
      "text/html": "<div>\n<style scoped>\n    .dataframe tbody tr th:only-of-type {\n        vertical-align: middle;\n    }\n\n    .dataframe tbody tr th {\n        vertical-align: top;\n    }\n\n    .dataframe thead th {\n        text-align: right;\n    }\n</style>\n<table border=\"1\" class=\"dataframe\">\n  <thead>\n    <tr style=\"text-align: right;\">\n      <th></th>\n      <th>Date</th>\n      <th>Low</th>\n      <th>High</th>\n      <th>Open</th>\n      <th>Close</th>\n      <th>Volume</th>\n    </tr>\n  </thead>\n  <tbody>\n    <tr>\n      <th>0</th>\n      <td>2020-01-05</td>\n      <td>7312.22</td>\n      <td>7488.87</td>\n      <td>7348.63</td>\n      <td>7355.40</td>\n      <td>5942.014946</td>\n    </tr>\n    <tr>\n      <th>1</th>\n      <td>2020-01-04</td>\n      <td>7263.32</td>\n      <td>7398.00</td>\n      <td>7334.45</td>\n      <td>7348.63</td>\n      <td>4742.466210</td>\n    </tr>\n    <tr>\n      <th>2</th>\n      <td>2020-01-03</td>\n      <td>6854.67</td>\n      <td>7401.20</td>\n      <td>6945.02</td>\n      <td>7334.45</td>\n      <td>14056.392385</td>\n    </tr>\n    <tr>\n      <th>3</th>\n      <td>2020-01-02</td>\n      <td>6903.00</td>\n      <td>7186.18</td>\n      <td>7174.33</td>\n      <td>6945.02</td>\n      <td>8010.927387</td>\n    </tr>\n    <tr>\n      <th>4</th>\n      <td>2020-01-01</td>\n      <td>7136.05</td>\n      <td>7238.14</td>\n      <td>7165.72</td>\n      <td>7174.33</td>\n      <td>3350.630049</td>\n    </tr>\n  </tbody>\n</table>\n</div>"
     },
     "metadata": {},
     "execution_count": 22
    }
   ],
   "source": [
    "data_btc_batch_two_df.head()"
   ]
  },
  {
   "cell_type": "code",
   "execution_count": 24,
   "metadata": {},
   "outputs": [
    {
     "output_type": "execute_result",
     "data": {
      "text/plain": [
       "         Date      Low     High     Open    Close       Volume\n",
       "61 2019-11-05  9169.84  9474.89  9412.63  9322.09  7581.216673\n",
       "62 2019-11-04  9127.00  9600.00  9206.52  9412.53  8361.958777\n",
       "63 2019-11-03  9068.30  9380.00  9308.52  9206.52  4294.500414\n",
       "64 2019-11-02  9210.00  9393.00  9253.09  9308.52  4559.265388\n",
       "65 2019-11-01  9057.27  9299.99  9159.96  9253.12  7774.271454"
      ],
      "text/html": "<div>\n<style scoped>\n    .dataframe tbody tr th:only-of-type {\n        vertical-align: middle;\n    }\n\n    .dataframe tbody tr th {\n        vertical-align: top;\n    }\n\n    .dataframe thead th {\n        text-align: right;\n    }\n</style>\n<table border=\"1\" class=\"dataframe\">\n  <thead>\n    <tr style=\"text-align: right;\">\n      <th></th>\n      <th>Date</th>\n      <th>Low</th>\n      <th>High</th>\n      <th>Open</th>\n      <th>Close</th>\n      <th>Volume</th>\n    </tr>\n  </thead>\n  <tbody>\n    <tr>\n      <th>61</th>\n      <td>2019-11-05</td>\n      <td>9169.84</td>\n      <td>9474.89</td>\n      <td>9412.63</td>\n      <td>9322.09</td>\n      <td>7581.216673</td>\n    </tr>\n    <tr>\n      <th>62</th>\n      <td>2019-11-04</td>\n      <td>9127.00</td>\n      <td>9600.00</td>\n      <td>9206.52</td>\n      <td>9412.53</td>\n      <td>8361.958777</td>\n    </tr>\n    <tr>\n      <th>63</th>\n      <td>2019-11-03</td>\n      <td>9068.30</td>\n      <td>9380.00</td>\n      <td>9308.52</td>\n      <td>9206.52</td>\n      <td>4294.500414</td>\n    </tr>\n    <tr>\n      <th>64</th>\n      <td>2019-11-02</td>\n      <td>9210.00</td>\n      <td>9393.00</td>\n      <td>9253.09</td>\n      <td>9308.52</td>\n      <td>4559.265388</td>\n    </tr>\n    <tr>\n      <th>65</th>\n      <td>2019-11-01</td>\n      <td>9057.27</td>\n      <td>9299.99</td>\n      <td>9159.96</td>\n      <td>9253.12</td>\n      <td>7774.271454</td>\n    </tr>\n  </tbody>\n</table>\n</div>"
     },
     "metadata": {},
     "execution_count": 24
    }
   ],
   "source": [
    "# concat batches of data to get a year worth of data \n",
    "\n",
    "btc_historic_data_df = pd.concat([data_btc_df, data_btc_batch_two_df], axis=\"rows\", join=\"inner\")\n",
    "\n",
    "btc_historic_data_df = btc_historic_data_df.iloc[0:365]\n",
    "\n",
    "btc_historic_data_df.tail()"
   ]
  },
  {
   "cell_type": "code",
   "execution_count": 99,
   "metadata": {},
   "outputs": [
    {
     "output_type": "stream",
     "name": "stdout",
     "text": [
      " myCrypto = BTC\n"
     ]
    }
   ],
   "source": [
    "\n"
   ]
  },
  {
   "cell_type": "code",
   "execution_count": null,
   "metadata": {},
   "outputs": [],
   "source": []
  }
 ]
}