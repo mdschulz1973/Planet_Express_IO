{
 "metadata": {
  "language_info": {
   "codemirror_mode": {
    "name": "ipython",
    "version": 3
   },
   "file_extension": ".py",
   "mimetype": "text/x-python",
   "name": "python",
   "nbconvert_exporter": "python",
   "pygments_lexer": "ipython3",
   "version": "3.7.7-final"
  },
  "orig_nbformat": 2,
  "kernelspec": {
   "name": "Python 3.7.7 64-bit ('pyvizenv': conda)",
   "display_name": "Python 3.7.7 64-bit ('pyvizenv': conda)",
   "metadata": {
    "interpreter": {
     "hash": "853c8529c45b54e3859f720efefe4fcd4632a07102e5a2ccce1bdf7f404e408c"
    }
   }
  }
 },
 "nbformat": 4,
 "nbformat_minor": 2,
 "cells": [
  {
   "cell_type": "code",
   "execution_count": 1,
   "metadata": {},
   "outputs": [],
   "source": [
    "#pyvizenv\n",
    "import eia\n",
    "import pandas as pd\n",
    "import requests\n",
    "import os\n",
    "import json\n",
    "from dotenv import load_dotenv\n"
   ]
  },
  {
   "cell_type": "code",
   "execution_count": 2,
   "metadata": {},
   "outputs": [],
   "source": [
    "# EIA api call categories:\n",
    "NatGas = \"714804\"\n",
    "Electricity = \"0\"\n",
    "Petrol = \"714755\""
   ]
  },
  {
   "cell_type": "code",
   "execution_count": 6,
   "metadata": {},
   "outputs": [
    {
     "output_type": "execute_result",
     "data": {
      "text/plain": [
       "<Response [200]>"
      ]
     },
     "metadata": {},
     "execution_count": 6
    }
   ],
   "source": [
    "eia_api_key = os.getenv(\"eia_api_key\")\n",
    "category_id = NatGas\n",
    "url = f\"http://api.eia.gov/category/?api_key={eia_api_key}&category_id={category_id}\"\n",
    "requests.get(url)"
   ]
  },
  {
   "cell_type": "code",
   "execution_count": 7,
   "metadata": {},
   "outputs": [
    {
     "output_type": "stream",
     "name": "stdout",
     "text": [
      "http://api.eia.gov/category/?api_key=9c425b06da989ac450a6cb91f3489aee&category_id=714804\n"
     ]
    }
   ],
   "source": [
    "print(url)"
   ]
  },
  {
   "cell_type": "code",
   "execution_count": 8,
   "metadata": {},
   "outputs": [
    {
     "output_type": "stream",
     "name": "stdout",
     "text": [
      "{\n    \"request\": {\n        \"category_id\": 714804,\n        \"command\": \"category\"\n    },\n    \"category\": {\n        \"category_id\": \"714804\",\n        \"parent_category_id\": \"371\",\n        \"name\": \"Natural Gas\",\n        \"notes\": \"\",\n        \"childcategories\": [\n            {\n                \"category_id\": 714805,\n                \"name\": \"Summary\"\n            },\n            {\n                \"category_id\": 714806,\n                \"name\": \"Prices\"\n            },\n            {\n                \"category_id\": 714807,\n                \"name\": \"Exploration and Reserves\"\n            },\n            {\n                \"category_id\": 714813,\n                \"name\": \"Production\"\n            },\n            {\n                \"category_id\": 714814,\n                \"name\": \"Imports and Exports/Pipelines\"\n            },\n            {\n                \"category_id\": 714815,\n                \"name\": \"Storage\"\n            },\n            {\n                \"category_id\": 714816,\n                \"name\": \"Consumption / End Use\"\n            }\n        ],\n        \"childseries\": []\n    }\n}\n"
     ]
    }
   ],
   "source": [
    "response_data = requests.get(url)\n",
    "data = response_data.json()\n",
    "print(json.dumps(data, indent=4))"
   ]
  },
  {
   "cell_type": "code",
   "execution_count": null,
   "metadata": {},
   "outputs": [],
   "source": []
  }
 ]
}