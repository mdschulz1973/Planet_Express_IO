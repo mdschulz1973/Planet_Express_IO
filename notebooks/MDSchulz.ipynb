{
 "metadata": {
  "language_info": {
   "codemirror_mode": {
    "name": "ipython",
    "version": 3
   },
   "file_extension": ".py",
   "mimetype": "text/x-python",
   "name": "python",
   "nbconvert_exporter": "python",
   "pygments_lexer": "ipython3",
   "version": "3.7.7-final"
  },
  "orig_nbformat": 2,
  "kernelspec": {
   "name": "Python 3.7.7 64-bit ('pyvizenv': conda)",
   "display_name": "Python 3.7.7 64-bit ('pyvizenv': conda)",
   "metadata": {
    "interpreter": {
     "hash": "853c8529c45b54e3859f720efefe4fcd4632a07102e5a2ccce1bdf7f404e408c"
    }
   }
  }
 },
 "nbformat": 4,
 "nbformat_minor": 2,
 "cells": [
  {
   "cell_type": "code",
   "execution_count": 5,
   "metadata": {},
   "outputs": [
    {
     "output_type": "stream",
     "name": "stderr",
     "text": [
      "Missing colon in file WindowsPath('C:/Users/mdsch/.conda/envs/pyvizenv/lib/site-packages/matplotlib/mpl-data/stylelib/_classic_test.mplstyle'), line 446 (' svg backend params')\n"
     ]
    }
   ],
   "source": [
    "#pyvizenv\n",
    "import eia\n",
    "import pandas as pd\n",
    "import requests\n",
    "import os\n",
    "import json\n",
    "from dotenv import load_dotenv\n",
    "\n",
    "%matplotlib inline\n"
   ]
  },
  {
   "cell_type": "code",
   "execution_count": 2,
   "metadata": {},
   "outputs": [],
   "source": [
    "# EIA api call categories:\n",
    "NatGas = \"714804\"\n",
    "NG_Spot = \"NG.RNGWHHD.D\"\n",
    "Electricity = \"0\"\n",
    "Petrol = \"714755\""
   ]
  },
  {
   "cell_type": "code",
   "execution_count": 3,
   "metadata": {},
   "outputs": [
    {
     "output_type": "execute_result",
     "data": {
      "text/plain": [
       "<Response [200]>"
      ]
     },
     "metadata": {},
     "execution_count": 3
    }
   ],
   "source": [
    "eia_api_key = os.getenv(\"eia_api_key\")\n",
    "series_id = NatGas\n",
    "url = f\"http://api.eia.gov/series/?series_id={series_id}&api_key={eia_api_key}[&num=1825][&out=json]\"\n",
    "requests.get(url)"
   ]
  },
  {
   "cell_type": "code",
   "execution_count": 4,
   "metadata": {},
   "outputs": [
    {
     "output_type": "stream",
     "name": "stdout",
     "text": [
      "{\n    \"request\": {\n        \"command\": \"series\",\n        \"num\": \"1825][\",\n        \"series_id\": \"714804\"\n    },\n    \"data\": {\n        \"error\": \"invalid or missing api_key. For key registration, documentation, and examples see https://www.eia.gov/developer/\"\n    }\n}\n"
     ]
    }
   ],
   "source": [
    "response_data = requests.get(url)\n",
    "data = response_data.json()\n",
    "print(json.dumps(data, indent=4))"
   ]
  },
  {
   "cell_type": "code",
   "execution_count": null,
   "metadata": {},
   "outputs": [],
   "source": []
  }
 ]
}