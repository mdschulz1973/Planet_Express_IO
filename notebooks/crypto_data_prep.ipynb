{
 "metadata": {
  "language_info": {
   "codemirror_mode": {
    "name": "ipython",
    "version": 3
   },
   "file_extension": ".py",
   "mimetype": "text/x-python",
   "name": "python",
   "nbconvert_exporter": "python",
   "pygments_lexer": "ipython3",
   "version": "3.7.7-final"
  },
  "orig_nbformat": 2,
  "kernelspec": {
   "name": "Python 3.7.7 64-bit ('pyvizenv': conda)",
   "display_name": "Python 3.7.7 64-bit ('pyvizenv': conda)",
   "metadata": {
    "interpreter": {
     "hash": "6d180c226e1fb546a2a1623a132f2a8812479d52f4604fddc733d95b32da65e3"
    }
   }
  }
 },
 "nbformat": 4,
 "nbformat_minor": 2,
 "cells": [
  {
   "cell_type": "code",
   "execution_count": 16,
   "metadata": {},
   "outputs": [],
   "source": [
    "# Import python modules\n",
    "\n",
    "import pandas as pd\n",
    "import glob\n",
    "import datetime\n",
    "from datetime import timedelta, datetime, date\n",
    "import requests\n",
    "import os\n",
    "import json\n",
    "from pandas.io.json import json_normalize\n",
    "\n",
    "from dotenv import load_dotenv\n",
    "load_dotenv()\n",
    "\n",
    "import coinbasepro as cbp\n",
    "from coinbase.wallet.client import Client\n",
    "import numpy as np\n",
    "\n",
    "%matplotlib inline"
   ]
  },
  {
   "cell_type": "code",
   "execution_count": 17,
   "metadata": {},
   "outputs": [],
   "source": [
    "# Read API key from .env file\n",
    "\n",
    "cb_public_key = os.getenv(\"CB_PUBLIC_KEY\")\n",
    "cb_secret_key = os.getenv(\"CB_SECRET_KEY\")\n",
    "client = Client(cb_public_key, cb_secret_key, api_version='YYYY-MM-DD')"
   ]
  },
  {
   "cell_type": "code",
   "execution_count": 18,
   "metadata": {},
   "outputs": [
    {
     "output_type": "stream",
     "name": "stdout",
     "text": [
      "-----------\n"
     ]
    },
    {
     "output_type": "execute_result",
     "data": {
      "text/plain": [
       "datetime.datetime(2019, 11, 1, 12, 0)"
      ]
     },
     "metadata": {},
     "execution_count": 18
    }
   ],
   "source": [
    "# Format date from existing ISO8601 format in CoinbasePro API using datetime function strptime formatter and conduct timeframe calculation using timedelta \n",
    "\n",
    "startDate = \"2020-01-05T12:00:00\"\n",
    "start = datetime.strptime(startDate, '%Y-%m-%dT%H:%M:%S')\n",
    "\n",
    "finalDate1 = start + timedelta(300)\n",
    "finalDate2 = start - timedelta(65)\n",
    "finalDate1 = finalDate1.isoformat()\n",
    "\n",
    "finalDate1\n",
    "print('-----------')\n",
    "finalDate2"
   ]
  },
  {
   "cell_type": "code",
   "execution_count": 19,
   "metadata": {},
   "outputs": [
    {
     "output_type": "stream",
     "name": "stdout",
     "text": [
      "<Response [200]>\n<Response [200]>\n"
     ]
    },
    {
     "output_type": "execute_result",
     "data": {
      "text/plain": [
       "   Crypto       Date      Low     High     Open    Close       Volume\n",
       "60    BTC 2019-11-06  9253.66  9450.00  9322.09  9341.27  6829.686118\n",
       "61    BTC 2019-11-05  9169.84  9474.89  9412.63  9322.09  7581.216673\n",
       "62    BTC 2019-11-04  9127.00  9600.00  9206.52  9412.53  8361.958777\n",
       "63    BTC 2019-11-03  9068.30  9380.00  9308.52  9206.52  4294.500414\n",
       "64    BTC 2019-11-02  9210.00  9393.00  9253.09  9308.52  4559.265388"
      ],
      "text/html": "<div>\n<style scoped>\n    .dataframe tbody tr th:only-of-type {\n        vertical-align: middle;\n    }\n\n    .dataframe tbody tr th {\n        vertical-align: top;\n    }\n\n    .dataframe thead th {\n        text-align: right;\n    }\n</style>\n<table border=\"1\" class=\"dataframe\">\n  <thead>\n    <tr style=\"text-align: right;\">\n      <th></th>\n      <th>Crypto</th>\n      <th>Date</th>\n      <th>Low</th>\n      <th>High</th>\n      <th>Open</th>\n      <th>Close</th>\n      <th>Volume</th>\n    </tr>\n  </thead>\n  <tbody>\n    <tr>\n      <th>60</th>\n      <td>BTC</td>\n      <td>2019-11-06</td>\n      <td>9253.66</td>\n      <td>9450.00</td>\n      <td>9322.09</td>\n      <td>9341.27</td>\n      <td>6829.686118</td>\n    </tr>\n    <tr>\n      <th>61</th>\n      <td>BTC</td>\n      <td>2019-11-05</td>\n      <td>9169.84</td>\n      <td>9474.89</td>\n      <td>9412.63</td>\n      <td>9322.09</td>\n      <td>7581.216673</td>\n    </tr>\n    <tr>\n      <th>62</th>\n      <td>BTC</td>\n      <td>2019-11-04</td>\n      <td>9127.00</td>\n      <td>9600.00</td>\n      <td>9206.52</td>\n      <td>9412.53</td>\n      <td>8361.958777</td>\n    </tr>\n    <tr>\n      <th>63</th>\n      <td>BTC</td>\n      <td>2019-11-03</td>\n      <td>9068.30</td>\n      <td>9380.00</td>\n      <td>9308.52</td>\n      <td>9206.52</td>\n      <td>4294.500414</td>\n    </tr>\n    <tr>\n      <th>64</th>\n      <td>BTC</td>\n      <td>2019-11-02</td>\n      <td>9210.00</td>\n      <td>9393.00</td>\n      <td>9253.09</td>\n      <td>9308.52</td>\n      <td>4559.265388</td>\n    </tr>\n  </tbody>\n</table>\n</div>"
     },
     "metadata": {},
     "execution_count": 19
    }
   ],
   "source": [
    "# Create a function to pull one year data from CoinBase PRO API\n",
    "\n",
    "\n",
    "def datapull(startDay, endDay, myCrypto):\n",
    "    \n",
    "    params = {\"start\" : startDay, \"end\" : endDay, \"granularity\" : \"86400\"}\n",
    "    \n",
    "    url = (f\" https://api.pro.coinbase.com/products/{myCrypto}-USD/candles\")\n",
    "\n",
    "    requests.get(url)\n",
    "    response_data = requests.get(url, params=params)\n",
    "    response_content = response_data\n",
    "    print(response_content)\n",
    "    data = response_data.json()\n",
    "        \n",
    "\n",
    "    data_df = pd.DataFrame(data)\n",
    "    data_df.columns = [\"Date\", \"Low\", \"High\", \"Open\", \"Close\", \"Volume\"]\n",
    "    data_df[\"Date\"]= pd.to_datetime(data_df['Date'],unit='s')\n",
    "    \n",
    "    return data_df\n",
    "\n",
    "# Select crypto ticker to pull data for (this only needs to be changed to get final data output. If need to pull data for different timeframe change dates below). Because CoinbasePro allows only 300 datapoints in one pull, multiple pulls with data adjustment may be needed.\n",
    "\n",
    "crypto =\"BTC\"\n",
    "\n",
    "# Adjust dates for the timeframe you need data for.\n",
    "\n",
    "batch1 = datapull(startDate,finalDate1,crypto)\n",
    "batch2 = datapull(finalDate2,startDate,crypto)\n",
    "\n",
    "batch_combined_df = pd.concat([batch1,batch2], axis=\"rows\", join=\"inner\")\n",
    "\n",
    "# Check for duplicate rows\n",
    "\n",
    "batch_combined_df.drop_duplicates()\n",
    "\n",
    "# Select one year data\n",
    "\n",
    "batch_combined_df.insert(0, \"Crypto\", f\"{crypto}\")\n",
    "\n",
    "batch_combined_df = batch_combined_df.iloc[0:365]\n",
    "\n",
    "# Print output to csv file (enable code if need to print to .csv)\n",
    "\n",
    "#batch_combined_df.to_csv(f\"output_batch_combined_{crypto}.csv\")\n",
    "\n",
    "# Print crypto data in pandas dataframe format\n",
    "\n",
    "batch_combined_df.tail()\n"
   ]
  },
  {
   "cell_type": "code",
   "execution_count": 20,
   "metadata": {},
   "outputs": [
    {
     "output_type": "execute_result",
     "data": {
      "text/plain": [
       "Crypto         BCH      BTC    DASH    EOS     ETH    LTC    REP       XLM  \\\n",
       "Date                                                                         \n",
       "2019-11-01  278.98  9253.12  72.031  3.352  183.19  58.34   9.12  0.069215   \n",
       "2019-11-02  290.04  9308.52  72.415  3.327  183.25  58.38   9.97  0.071528   \n",
       "2019-11-03  291.64  9206.52  71.389  3.274  181.73  58.34  10.30  0.068697   \n",
       "2019-11-04  291.13  9412.53  72.703  3.443  186.25  61.41  12.23  0.079496   \n",
       "2019-11-05  293.30  9322.09  74.590  3.625  188.88  63.16  12.17  0.082612   \n",
       "\n",
       "Crypto         XRP  \n",
       "Date                \n",
       "2019-11-01  0.2924  \n",
       "2019-11-02  0.2951  \n",
       "2019-11-03  0.2906  \n",
       "2019-11-04  0.2994  \n",
       "2019-11-05  0.3010  "
      ],
      "text/html": "<div>\n<style scoped>\n    .dataframe tbody tr th:only-of-type {\n        vertical-align: middle;\n    }\n\n    .dataframe tbody tr th {\n        vertical-align: top;\n    }\n\n    .dataframe thead th {\n        text-align: right;\n    }\n</style>\n<table border=\"1\" class=\"dataframe\">\n  <thead>\n    <tr style=\"text-align: right;\">\n      <th>Crypto</th>\n      <th>BCH</th>\n      <th>BTC</th>\n      <th>DASH</th>\n      <th>EOS</th>\n      <th>ETH</th>\n      <th>LTC</th>\n      <th>REP</th>\n      <th>XLM</th>\n      <th>XRP</th>\n    </tr>\n    <tr>\n      <th>Date</th>\n      <th></th>\n      <th></th>\n      <th></th>\n      <th></th>\n      <th></th>\n      <th></th>\n      <th></th>\n      <th></th>\n      <th></th>\n    </tr>\n  </thead>\n  <tbody>\n    <tr>\n      <th>2019-11-01</th>\n      <td>278.98</td>\n      <td>9253.12</td>\n      <td>72.031</td>\n      <td>3.352</td>\n      <td>183.19</td>\n      <td>58.34</td>\n      <td>9.12</td>\n      <td>0.069215</td>\n      <td>0.2924</td>\n    </tr>\n    <tr>\n      <th>2019-11-02</th>\n      <td>290.04</td>\n      <td>9308.52</td>\n      <td>72.415</td>\n      <td>3.327</td>\n      <td>183.25</td>\n      <td>58.38</td>\n      <td>9.97</td>\n      <td>0.071528</td>\n      <td>0.2951</td>\n    </tr>\n    <tr>\n      <th>2019-11-03</th>\n      <td>291.64</td>\n      <td>9206.52</td>\n      <td>71.389</td>\n      <td>3.274</td>\n      <td>181.73</td>\n      <td>58.34</td>\n      <td>10.30</td>\n      <td>0.068697</td>\n      <td>0.2906</td>\n    </tr>\n    <tr>\n      <th>2019-11-04</th>\n      <td>291.13</td>\n      <td>9412.53</td>\n      <td>72.703</td>\n      <td>3.443</td>\n      <td>186.25</td>\n      <td>61.41</td>\n      <td>12.23</td>\n      <td>0.079496</td>\n      <td>0.2994</td>\n    </tr>\n    <tr>\n      <th>2019-11-05</th>\n      <td>293.30</td>\n      <td>9322.09</td>\n      <td>74.590</td>\n      <td>3.625</td>\n      <td>188.88</td>\n      <td>63.16</td>\n      <td>12.17</td>\n      <td>0.082612</td>\n      <td>0.3010</td>\n    </tr>\n  </tbody>\n</table>\n</div>"
     },
     "metadata": {},
     "execution_count": 20
    }
   ],
   "source": [
    "# Read multiple crypto data .csv files and concat into a dataframe\n",
    "\n",
    "crypto_data = \"../data/crypto_data\"\n",
    "csvfiles = glob.glob(os.path.join(crypto_data, \"*csv\"))\n",
    "\n",
    "# Create a list to hold individual crypto dfs\n",
    "\n",
    "crypto_df =[]\n",
    "\n",
    "# Loop through .csv files and append to a crypto_df list\n",
    "\n",
    "for csvfile in csvfiles:\n",
    "    df = pd.read_csv(csvfile)\n",
    "    crypto_df.append(df)\n",
    "    \n",
    "\n",
    "# Concat individual dfs into a combined df \n",
    "\n",
    "all_cryto_data_df = pd.concat(crypto_df, join=\"inner\", axis=\"rows\")\n",
    "\n",
    "# Create pivot table to analyse Close prices for each crypto and set date as index\n",
    "\n",
    "all_crypto_pivoted = all_cryto_data_df.pivot_table(index='Date',values='Close',columns='Crypto')\n",
    "\n",
    "all_crypto_pivoted.head()"
   ]
  },
  {
   "cell_type": "code",
   "execution_count": null,
   "metadata": {},
   "outputs": [],
   "source": []
  }
 ]
}