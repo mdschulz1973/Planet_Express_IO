{
 "metadata": {
  "language_info": {
   "codemirror_mode": {
    "name": "ipython",
    "version": 3
   },
   "file_extension": ".py",
   "mimetype": "text/x-python",
   "name": "python",
   "nbconvert_exporter": "python",
   "pygments_lexer": "ipython3",
   "version": "3.7.7-final"
  },
  "orig_nbformat": 2,
  "kernelspec": {
   "name": "Python 3.7.7 64-bit ('pyvizenv': conda)",
   "display_name": "Python 3.7.7 64-bit ('pyvizenv': conda)",
   "metadata": {
    "interpreter": {
     "hash": "6d180c226e1fb546a2a1623a132f2a8812479d52f4604fddc733d95b32da65e3"
    }
   }
  }
 },
 "nbformat": 4,
 "nbformat_minor": 2,
 "cells": [
  {
   "cell_type": "code",
   "execution_count": 13,
   "metadata": {},
   "outputs": [],
   "source": [
    "# import python modules\n",
    "\n",
    "import pandas as pd\n",
    "import datetime \n",
    "import requests\n",
    "import os\n",
    "import json\n",
    "from pandas.io.json import json_normalize\n",
    "\n",
    "from dotenv import load_dotenv\n",
    "load_dotenv()\n",
    "\n",
    "import coinbasepro as cbp\n",
    "from coinbase.wallet.client import Client\n",
    "\n",
    "%matplotlib inline"
   ]
  },
  {
   "cell_type": "code",
   "execution_count": 14,
   "metadata": {},
   "outputs": [],
   "source": [
    "# read API key from .env file\n",
    "\n",
    "cb_public_key = os.getenv(\"CB_PUBLIC_KEY\")\n",
    "cb_secret_key = os.getenv(\"CB_SECRET_KEY\")\n",
    "client = Client(cb_public_key, cb_secret_key, api_version='YYYY-MM-DD')"
   ]
  },
  {
   "cell_type": "code",
   "execution_count": 15,
   "metadata": {},
   "outputs": [
    {
     "output_type": "stream",
     "name": "stdout",
     "text": [
      "<Response [200]>\n<Response [200]>\n"
     ]
    },
    {
     "output_type": "execute_result",
     "data": {
      "text/plain": [
       "        Date       Low      High      Open     Close        Volume\n",
       "0 2020-10-30  13131.31  13687.82  13460.00  13571.51  15664.290475\n",
       "1 2020-10-29  12976.29  13650.00  13281.06  13460.00  15796.076677\n",
       "2 2020-10-28  12891.57  13863.87  13740.85  13281.05  21073.376678\n",
       "3 2020-10-27  13061.28  13793.72  13068.79  13698.18  17267.439678\n",
       "4 2020-10-26  12785.00  13250.00  13045.02  13068.79  12275.358260"
      ],
      "text/html": "<div>\n<style scoped>\n    .dataframe tbody tr th:only-of-type {\n        vertical-align: middle;\n    }\n\n    .dataframe tbody tr th {\n        vertical-align: top;\n    }\n\n    .dataframe thead th {\n        text-align: right;\n    }\n</style>\n<table border=\"1\" class=\"dataframe\">\n  <thead>\n    <tr style=\"text-align: right;\">\n      <th></th>\n      <th>Date</th>\n      <th>Low</th>\n      <th>High</th>\n      <th>Open</th>\n      <th>Close</th>\n      <th>Volume</th>\n    </tr>\n  </thead>\n  <tbody>\n    <tr>\n      <th>0</th>\n      <td>2020-10-30</td>\n      <td>13131.31</td>\n      <td>13687.82</td>\n      <td>13460.00</td>\n      <td>13571.51</td>\n      <td>15664.290475</td>\n    </tr>\n    <tr>\n      <th>1</th>\n      <td>2020-10-29</td>\n      <td>12976.29</td>\n      <td>13650.00</td>\n      <td>13281.06</td>\n      <td>13460.00</td>\n      <td>15796.076677</td>\n    </tr>\n    <tr>\n      <th>2</th>\n      <td>2020-10-28</td>\n      <td>12891.57</td>\n      <td>13863.87</td>\n      <td>13740.85</td>\n      <td>13281.05</td>\n      <td>21073.376678</td>\n    </tr>\n    <tr>\n      <th>3</th>\n      <td>2020-10-27</td>\n      <td>13061.28</td>\n      <td>13793.72</td>\n      <td>13068.79</td>\n      <td>13698.18</td>\n      <td>17267.439678</td>\n    </tr>\n    <tr>\n      <th>4</th>\n      <td>2020-10-26</td>\n      <td>12785.00</td>\n      <td>13250.00</td>\n      <td>13045.02</td>\n      <td>13068.79</td>\n      <td>12275.358260</td>\n    </tr>\n  </tbody>\n</table>\n</div>"
     },
     "metadata": {},
     "execution_count": 15
    }
   ],
   "source": [
    "# Create a function to pull one year data from CoinBase PRO API\n",
    "\n",
    "\n",
    "def datapull(startDay, endDay, myCrypto):\n",
    "    \n",
    "    params = {\"start\" : startDay, \"end\" : endDay, \"granularity\" : \"86400\"}\n",
    "    \n",
    "    url = (f\" https://api.pro.coinbase.com/products/{myCrypto}-USD/candles\")\n",
    "\n",
    "    requests.get(url)\n",
    "    response_data = requests.get(url, params=params)\n",
    "    response_content = response_data\n",
    "    print(response_content)\n",
    "    data = response_data.json()\n",
    "        \n",
    "\n",
    "    data_df = pd.DataFrame(data)\n",
    "    data_df.columns = [\"Date\", \"Low\", \"High\", \"Open\", \"Close\", \"Volume\"]\n",
    "    data_df[\"Date\"]= pd.to_datetime(data_df['Date'],unit='s')\n",
    "    \n",
    "    return data_df\n",
    "\n",
    "# Select crypto ticker to pull data for. Because CoinbasePro allows only 300 datapoints in one pull, multiple pulls with data adjustment may be needed.\n",
    "\n",
    "crypyto =\"BTC\"\n",
    "\n",
    "batch1 = datapull(\"2020-01-05T12:00:00\",\"2020-10-30T12:00:00\",crypyto)\n",
    "\n",
    "batch2 = datapull(\"2019-10-05T12:00:00\",\"2020-01-05T12:00:00\",crypyto)\n",
    "\n",
    "batch_combined_df = pd.concat([batch1,batch2], axis=\"rows\", join=\"inner\")\n",
    "\n",
    "# Check for duplicate rows\n",
    "\n",
    "batch_combined_df.drop_duplicates()\n",
    "\n",
    "# Select one year data\n",
    "\n",
    "batch_combined_df = batch_combined_df.iloc[0:365]\n",
    "\n",
    "# Print output to csv file\n",
    "\n",
    "#batch_combined_df.to_csv(f\"output_batch_combined_{crypyto}.csv\")\n",
    "\n",
    "# Print crypto data in pandas dataframe format\n",
    "\n",
    "batch_combined_df.head()"
   ]
  },
  {
   "cell_type": "code",
   "execution_count": null,
   "metadata": {},
   "outputs": [],
   "source": []
  }
 ]
}