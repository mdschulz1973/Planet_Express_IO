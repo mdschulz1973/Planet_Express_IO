{
 "metadata": {
  "language_info": {
   "codemirror_mode": {
    "name": "ipython",
    "version": 3
   },
   "file_extension": ".py",
   "mimetype": "text/x-python",
   "name": "python",
   "nbconvert_exporter": "python",
   "pygments_lexer": "ipython3",
   "version": "3.7.7-final"
  },
  "orig_nbformat": 2,
  "kernelspec": {
   "name": "Python 3.7.7 64-bit ('pyvizenv': conda)",
   "display_name": "Python 3.7.7 64-bit ('pyvizenv': conda)",
   "metadata": {
    "interpreter": {
     "hash": "6d180c226e1fb546a2a1623a132f2a8812479d52f4604fddc733d95b32da65e3"
    }
   }
  }
 },
 "nbformat": 4,
 "nbformat_minor": 2,
 "cells": [
  {
   "cell_type": "code",
   "execution_count": 343,
   "metadata": {},
   "outputs": [],
   "source": [
    "# Import python modules\n",
    "\n",
    "import pandas as pd\n",
    "import glob\n",
    "import datetime \n",
    "import requests\n",
    "import os\n",
    "import json\n",
    "from pandas.io.json import json_normalize\n",
    "\n",
    "from dotenv import load_dotenv\n",
    "load_dotenv()\n",
    "\n",
    "import coinbasepro as cbp\n",
    "from coinbase.wallet.client import Client\n",
    "\n",
    "%matplotlib inline"
   ]
  },
  {
   "cell_type": "code",
   "execution_count": 344,
   "metadata": {},
   "outputs": [],
   "source": [
    "# Read API key from .env file\n",
    "\n",
    "cb_public_key = os.getenv(\"CB_PUBLIC_KEY\")\n",
    "cb_secret_key = os.getenv(\"CB_SECRET_KEY\")\n",
    "client = Client(cb_public_key, cb_secret_key, api_version='YYYY-MM-DD')"
   ]
  },
  {
   "cell_type": "code",
   "execution_count": 345,
   "metadata": {},
   "outputs": [
    {
     "output_type": "stream",
     "name": "stdout",
     "text": [
      "<Response [200]>\n",
      "<Response [200]>\n"
     ]
    },
    {
     "output_type": "execute_result",
     "data": {
      "text/plain": [
       "  Crypto       Date    Low   High   Open  Close        Volume\n",
       "0    REP 2020-10-30  12.40  14.29  13.39  13.26  32709.218589\n",
       "1    REP 2020-10-29  12.30  14.00  12.30  13.46  44082.969028\n",
       "2    REP 2020-10-28  12.02  13.16  13.05  12.30  22020.868339\n",
       "3    REP 2020-10-27  12.77  13.37  13.00  13.05  14239.214067\n",
       "4    REP 2020-10-26  12.93  13.42  13.32  12.99  12894.203317"
      ],
      "text/html": "<div>\n<style scoped>\n    .dataframe tbody tr th:only-of-type {\n        vertical-align: middle;\n    }\n\n    .dataframe tbody tr th {\n        vertical-align: top;\n    }\n\n    .dataframe thead th {\n        text-align: right;\n    }\n</style>\n<table border=\"1\" class=\"dataframe\">\n  <thead>\n    <tr style=\"text-align: right;\">\n      <th></th>\n      <th>Crypto</th>\n      <th>Date</th>\n      <th>Low</th>\n      <th>High</th>\n      <th>Open</th>\n      <th>Close</th>\n      <th>Volume</th>\n    </tr>\n  </thead>\n  <tbody>\n    <tr>\n      <th>0</th>\n      <td>REP</td>\n      <td>2020-10-30</td>\n      <td>12.40</td>\n      <td>14.29</td>\n      <td>13.39</td>\n      <td>13.26</td>\n      <td>32709.218589</td>\n    </tr>\n    <tr>\n      <th>1</th>\n      <td>REP</td>\n      <td>2020-10-29</td>\n      <td>12.30</td>\n      <td>14.00</td>\n      <td>12.30</td>\n      <td>13.46</td>\n      <td>44082.969028</td>\n    </tr>\n    <tr>\n      <th>2</th>\n      <td>REP</td>\n      <td>2020-10-28</td>\n      <td>12.02</td>\n      <td>13.16</td>\n      <td>13.05</td>\n      <td>12.30</td>\n      <td>22020.868339</td>\n    </tr>\n    <tr>\n      <th>3</th>\n      <td>REP</td>\n      <td>2020-10-27</td>\n      <td>12.77</td>\n      <td>13.37</td>\n      <td>13.00</td>\n      <td>13.05</td>\n      <td>14239.214067</td>\n    </tr>\n    <tr>\n      <th>4</th>\n      <td>REP</td>\n      <td>2020-10-26</td>\n      <td>12.93</td>\n      <td>13.42</td>\n      <td>13.32</td>\n      <td>12.99</td>\n      <td>12894.203317</td>\n    </tr>\n  </tbody>\n</table>\n</div>"
     },
     "metadata": {},
     "execution_count": 345
    }
   ],
   "source": [
    "# Create a function to pull one year data from CoinBase PRO API\n",
    "\n",
    "\n",
    "def datapull(startDay, endDay, myCrypto):\n",
    "    \n",
    "    params = {\"start\" : startDay, \"end\" : endDay, \"granularity\" : \"86400\"}\n",
    "    \n",
    "    url = (f\" https://api.pro.coinbase.com/products/{myCrypto}-USD/candles\")\n",
    "\n",
    "    requests.get(url)\n",
    "    response_data = requests.get(url, params=params)\n",
    "    response_content = response_data\n",
    "    print(response_content)\n",
    "    data = response_data.json()\n",
    "        \n",
    "\n",
    "    data_df = pd.DataFrame(data)\n",
    "    data_df.columns = [\"Date\", \"Low\", \"High\", \"Open\", \"Close\", \"Volume\"]\n",
    "    data_df[\"Date\"]= pd.to_datetime(data_df['Date'],unit='s')\n",
    "    \n",
    "    return data_df\n",
    "\n",
    "# Select crypto ticker to pull data for (this only needs to be changed to get final data output. If need to pull data for different timeframe change dates below). Because CoinbasePro allows only 300 datapoints in one pull, multiple pulls with data adjustment may be needed.\n",
    "\n",
    "crypto =\"REP\"\n",
    "\n",
    "# Adjust dates for the timeframe you need data for.\n",
    "\n",
    "batch1 = datapull(\"2020-01-05T12:00:00\",\"2020-10-30T12:00:00\",crypto)\n",
    "batch2 = datapull(\"2019-10-05T12:00:00\",\"2020-01-05T12:00:00\",crypto)\n",
    "\n",
    "batch_combined_df = pd.concat([batch1,batch2], axis=\"rows\", join=\"inner\")\n",
    "\n",
    "# Check for duplicate rows\n",
    "\n",
    "batch_combined_df.drop_duplicates()\n",
    "\n",
    "# Select one year data\n",
    "\n",
    "batch_combined_df.insert(0, \"Crypto\", f\"{crypto}\")\n",
    "\n",
    "batch_combined_df = batch_combined_df.iloc[0:365]\n",
    "\n",
    "# Print output to csv file (enable code if need to print to .csv)\n",
    "\n",
    "#batch_combined_df.to_csv(f\"output_batch_combined_{crypto}.csv\")\n",
    "\n",
    "# Print crypto data in pandas dataframe format\n",
    "\n",
    "batch_combined_df.head()\n"
   ]
  },
  {
   "cell_type": "code",
   "execution_count": 351,
   "metadata": {},
   "outputs": [
    {
     "output_type": "execute_result",
     "data": {
      "text/plain": [
       "   Crypto        Date    Low   High   Open  Close    Volume  Crypto  \\\n",
       "0     EOS  2020-10-30  2.402  2.649  2.640  2.510  550128.1     XLM   \n",
       "1     EOS  2020-10-29  2.605  2.677  2.655  2.638  258459.5     XLM   \n",
       "2     EOS  2020-10-28  2.621  2.755  2.673  2.654  401503.3     XLM   \n",
       "3     EOS  2020-10-27  2.628  2.699  2.631  2.675  266275.7     XLM   \n",
       "4     EOS  2020-10-26  2.597  2.751  2.714  2.634  347685.1     XLM   \n",
       "\n",
       "         Date       Low  ...   Open  Close        Volume  Crypto        Date  \\\n",
       "0  2020-10-30  0.074457  ...  13.39  13.26  32709.218589     XRP  2020-10-30   \n",
       "1  2020-10-29  0.075419  ...  12.30  13.46  44082.969028     XRP  2020-10-29   \n",
       "2  2020-10-28  0.077413  ...  13.05  12.30  22020.868339     XRP  2020-10-28   \n",
       "3  2020-10-27  0.081034  ...  13.00  13.05  14239.214067     XRP  2020-10-27   \n",
       "4  2020-10-26  0.079856  ...  13.32  12.99  12894.203317     XRP  2020-10-26   \n",
       "\n",
       "      Low    High    Open   Close        Volume  \n",
       "0  0.2310  0.2442  0.2427  0.2395  4.749147e+07  \n",
       "1  0.2400  0.2473  0.2457  0.2425  2.960889e+07  \n",
       "2  0.2438  0.2569  0.2528  0.2457  4.575991e+07  \n",
       "3  0.2479  0.2543  0.2485  0.2527  3.174011e+07  \n",
       "4  0.2436  0.2593  0.2535  0.2486  4.414561e+07  \n",
       "\n",
       "[5 rows x 63 columns]"
      ],
      "text/html": "<div>\n<style scoped>\n    .dataframe tbody tr th:only-of-type {\n        vertical-align: middle;\n    }\n\n    .dataframe tbody tr th {\n        vertical-align: top;\n    }\n\n    .dataframe thead th {\n        text-align: right;\n    }\n</style>\n<table border=\"1\" class=\"dataframe\">\n  <thead>\n    <tr style=\"text-align: right;\">\n      <th></th>\n      <th>Crypto</th>\n      <th>Date</th>\n      <th>Low</th>\n      <th>High</th>\n      <th>Open</th>\n      <th>Close</th>\n      <th>Volume</th>\n      <th>Crypto</th>\n      <th>Date</th>\n      <th>Low</th>\n      <th>...</th>\n      <th>Open</th>\n      <th>Close</th>\n      <th>Volume</th>\n      <th>Crypto</th>\n      <th>Date</th>\n      <th>Low</th>\n      <th>High</th>\n      <th>Open</th>\n      <th>Close</th>\n      <th>Volume</th>\n    </tr>\n  </thead>\n  <tbody>\n    <tr>\n      <th>0</th>\n      <td>EOS</td>\n      <td>2020-10-30</td>\n      <td>2.402</td>\n      <td>2.649</td>\n      <td>2.640</td>\n      <td>2.510</td>\n      <td>550128.1</td>\n      <td>XLM</td>\n      <td>2020-10-30</td>\n      <td>0.074457</td>\n      <td>...</td>\n      <td>13.39</td>\n      <td>13.26</td>\n      <td>32709.218589</td>\n      <td>XRP</td>\n      <td>2020-10-30</td>\n      <td>0.2310</td>\n      <td>0.2442</td>\n      <td>0.2427</td>\n      <td>0.2395</td>\n      <td>4.749147e+07</td>\n    </tr>\n    <tr>\n      <th>1</th>\n      <td>EOS</td>\n      <td>2020-10-29</td>\n      <td>2.605</td>\n      <td>2.677</td>\n      <td>2.655</td>\n      <td>2.638</td>\n      <td>258459.5</td>\n      <td>XLM</td>\n      <td>2020-10-29</td>\n      <td>0.075419</td>\n      <td>...</td>\n      <td>12.30</td>\n      <td>13.46</td>\n      <td>44082.969028</td>\n      <td>XRP</td>\n      <td>2020-10-29</td>\n      <td>0.2400</td>\n      <td>0.2473</td>\n      <td>0.2457</td>\n      <td>0.2425</td>\n      <td>2.960889e+07</td>\n    </tr>\n    <tr>\n      <th>2</th>\n      <td>EOS</td>\n      <td>2020-10-28</td>\n      <td>2.621</td>\n      <td>2.755</td>\n      <td>2.673</td>\n      <td>2.654</td>\n      <td>401503.3</td>\n      <td>XLM</td>\n      <td>2020-10-28</td>\n      <td>0.077413</td>\n      <td>...</td>\n      <td>13.05</td>\n      <td>12.30</td>\n      <td>22020.868339</td>\n      <td>XRP</td>\n      <td>2020-10-28</td>\n      <td>0.2438</td>\n      <td>0.2569</td>\n      <td>0.2528</td>\n      <td>0.2457</td>\n      <td>4.575991e+07</td>\n    </tr>\n    <tr>\n      <th>3</th>\n      <td>EOS</td>\n      <td>2020-10-27</td>\n      <td>2.628</td>\n      <td>2.699</td>\n      <td>2.631</td>\n      <td>2.675</td>\n      <td>266275.7</td>\n      <td>XLM</td>\n      <td>2020-10-27</td>\n      <td>0.081034</td>\n      <td>...</td>\n      <td>13.00</td>\n      <td>13.05</td>\n      <td>14239.214067</td>\n      <td>XRP</td>\n      <td>2020-10-27</td>\n      <td>0.2479</td>\n      <td>0.2543</td>\n      <td>0.2485</td>\n      <td>0.2527</td>\n      <td>3.174011e+07</td>\n    </tr>\n    <tr>\n      <th>4</th>\n      <td>EOS</td>\n      <td>2020-10-26</td>\n      <td>2.597</td>\n      <td>2.751</td>\n      <td>2.714</td>\n      <td>2.634</td>\n      <td>347685.1</td>\n      <td>XLM</td>\n      <td>2020-10-26</td>\n      <td>0.079856</td>\n      <td>...</td>\n      <td>13.32</td>\n      <td>12.99</td>\n      <td>12894.203317</td>\n      <td>XRP</td>\n      <td>2020-10-26</td>\n      <td>0.2436</td>\n      <td>0.2593</td>\n      <td>0.2535</td>\n      <td>0.2486</td>\n      <td>4.414561e+07</td>\n    </tr>\n  </tbody>\n</table>\n<p>5 rows × 63 columns</p>\n</div>"
     },
     "metadata": {},
     "execution_count": 351
    }
   ],
   "source": [
    "# Read multiple crypto data .csv files and concat into a dataframe\n",
    "\n",
    "crypto_data = \"../data\"\n",
    "csvfiles = glob.glob(os.path.join(crypto_data, \"*csv\"))\n",
    "\n",
    "# loop through .csv files and read them \n",
    "\n",
    "crypto_df =[]\n",
    "\n",
    "for csvfile in csvfiles:\n",
    "    df = pd.read_csv(csvfile)\n",
    "    crypto_df.append(df)\n",
    "\n",
    "crypto_df\n",
    "\n",
    "# Concat individual dfs into a comboned df and set date as index \n",
    "\n",
    "all_cryto_data_df = pd.concat(crypto_df, join=\"inner\", axis=\"columns\")\n",
    "all_cryto_data_df.reset_index(drop=True,inplace=True)\n",
    "all_cryto_data_df.drop(\"Unnamed: 0\", axis=1, inplace=True)\n",
    "\n",
    "all_cryto_data_df.head()\n"
   ]
  },
  {
   "cell_type": "code",
   "execution_count": null,
   "metadata": {},
   "outputs": [],
   "source": []
  }
 ]
}