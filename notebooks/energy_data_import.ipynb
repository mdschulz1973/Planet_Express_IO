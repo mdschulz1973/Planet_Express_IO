{
 "metadata": {
  "language_info": {
   "codemirror_mode": {
    "name": "ipython",
    "version": 3
   },
   "file_extension": ".py",
   "mimetype": "text/x-python",
   "name": "python",
   "nbconvert_exporter": "python",
   "pygments_lexer": "ipython3",
   "version": "3.7.7-final"
  },
  "orig_nbformat": 2,
  "kernelspec": {
   "name": "Python 3.7.7 64-bit ('pyvizenv': conda)",
   "display_name": "Python 3.7.7 64-bit ('pyvizenv': conda)",
   "metadata": {
    "interpreter": {
     "hash": "853c8529c45b54e3859f720efefe4fcd4632a07102e5a2ccce1bdf7f404e408c"
    }
   }
  }
 },
 "nbformat": 4,
 "nbformat_minor": 2,
 "cells": [
  {
   "cell_type": "code",
   "execution_count": 23,
   "metadata": {},
   "outputs": [],
   "source": [
    "import eia\n",
    "import pandas as pd\n",
    "from pandas.io.json import json_normalize\n",
    "import requests\n",
    "import os\n",
    "import json\n",
    "from dotenv import load_dotenv\n",
    "\n",
    "%matplotlib inline"
   ]
  },
  {
   "cell_type": "code",
   "execution_count": 24,
   "metadata": {},
   "outputs": [],
   "source": [
    "ngspot_df = pd.read_clipboard()"
   ]
  },
  {
   "cell_type": "code",
   "execution_count": 25,
   "metadata": {},
   "outputs": [
    {
     "output_type": "execute_result",
     "data": {
      "text/plain": [
       "                                        Series Name    Period Frequency  \\\n",
       "0    Cushing, OK Crude Oil Future Contract 1, Daily  20201103         D   \n",
       "1    Cushing, OK Crude Oil Future Contract 1, Daily  20201102         D   \n",
       "2    Cushing, OK Crude Oil Future Contract 1, Daily  20201030         D   \n",
       "3    Cushing, OK Crude Oil Future Contract 1, Daily  20201029         D   \n",
       "4    Cushing, OK Crude Oil Future Contract 1, Daily  20201028         D   \n",
       "5    Cushing, OK Crude Oil Future Contract 1, Daily  20201027         D   \n",
       "6    Cushing, OK Crude Oil Future Contract 1, Daily  20201026         D   \n",
       "7    Cushing, OK Crude Oil Future Contract 1, Daily  20201023         D   \n",
       "8    Cushing, OK Crude Oil Future Contract 1, Daily  20201022         D   \n",
       "9    Cushing, OK Crude Oil Future Contract 1, Daily  20201021         D   \n",
       "10   Cushing, OK Crude Oil Future Contract 1, Daily  20201020         D   \n",
       "11   Cushing, OK Crude Oil Future Contract 1, Daily  20201019         D   \n",
       "12   Cushing, OK Crude Oil Future Contract 1, Daily  20201016         D   \n",
       "13   Cushing, OK Crude Oil Future Contract 1, Daily  20201015         D   \n",
       "14   Cushing, OK Crude Oil Future Contract 1, Daily  20201014         D   \n",
       "15   Cushing, OK Crude Oil Future Contract 1, Daily  20201013         D   \n",
       "16   Cushing, OK Crude Oil Future Contract 1, Daily  20201012         D   \n",
       "17   Cushing, OK Crude Oil Future Contract 1, Daily  20201009         D   \n",
       "18   Cushing, OK Crude Oil Future Contract 1, Daily  20201008         D   \n",
       "19   Cushing, OK Crude Oil Future Contract 1, Daily  20201007         D   \n",
       "20   Cushing, OK Crude Oil Future Contract 1, Daily  20201006         D   \n",
       "21   Cushing, OK Crude Oil Future Contract 1, Daily  20201005         D   \n",
       "22   Cushing, OK Crude Oil Future Contract 1, Daily  20201002         D   \n",
       "23   Cushing, OK Crude Oil Future Contract 1, Daily  20201001         D   \n",
       "24   Cushing, OK Crude Oil Future Contract 1, Daily  20200930         D   \n",
       "25   Cushing, OK Crude Oil Future Contract 1, Daily  20200929         D   \n",
       "26   Cushing, OK Crude Oil Future Contract 1, Daily  20200928         D   \n",
       "27   Cushing, OK Crude Oil Future Contract 1, Daily  20200925         D   \n",
       "28   Cushing, OK Crude Oil Future Contract 1, Daily  20200924         D   \n",
       "29   Cushing, OK Crude Oil Future Contract 1, Daily  20200923         D   \n",
       "..                                              ...       ...       ...   \n",
       "231  Cushing, OK Crude Oil Future Contract 1, Daily  20191212         D   \n",
       "232  Cushing, OK Crude Oil Future Contract 1, Daily  20191211         D   \n",
       "233  Cushing, OK Crude Oil Future Contract 1, Daily  20191210         D   \n",
       "234  Cushing, OK Crude Oil Future Contract 1, Daily  20191209         D   \n",
       "235  Cushing, OK Crude Oil Future Contract 1, Daily  20191206         D   \n",
       "236  Cushing, OK Crude Oil Future Contract 1, Daily  20191205         D   \n",
       "237  Cushing, OK Crude Oil Future Contract 1, Daily  20191204         D   \n",
       "238  Cushing, OK Crude Oil Future Contract 1, Daily  20191203         D   \n",
       "239  Cushing, OK Crude Oil Future Contract 1, Daily  20191202         D   \n",
       "240  Cushing, OK Crude Oil Future Contract 1, Daily  20191128         D   \n",
       "241  Cushing, OK Crude Oil Future Contract 1, Daily  20191127         D   \n",
       "242  Cushing, OK Crude Oil Future Contract 1, Daily  20191126         D   \n",
       "243  Cushing, OK Crude Oil Future Contract 1, Daily  20191125         D   \n",
       "244  Cushing, OK Crude Oil Future Contract 1, Daily  20191122         D   \n",
       "245  Cushing, OK Crude Oil Future Contract 1, Daily  20191121         D   \n",
       "246  Cushing, OK Crude Oil Future Contract 1, Daily  20191120         D   \n",
       "247  Cushing, OK Crude Oil Future Contract 1, Daily  20191119         D   \n",
       "248  Cushing, OK Crude Oil Future Contract 1, Daily  20191118         D   \n",
       "249  Cushing, OK Crude Oil Future Contract 1, Daily  20191115         D   \n",
       "250  Cushing, OK Crude Oil Future Contract 1, Daily  20191114         D   \n",
       "251  Cushing, OK Crude Oil Future Contract 1, Daily  20191113         D   \n",
       "252  Cushing, OK Crude Oil Future Contract 1, Daily  20191112         D   \n",
       "253  Cushing, OK Crude Oil Future Contract 1, Daily  20191111         D   \n",
       "254  Cushing, OK Crude Oil Future Contract 1, Daily  20191108         D   \n",
       "255  Cushing, OK Crude Oil Future Contract 1, Daily  20191107         D   \n",
       "256  Cushing, OK Crude Oil Future Contract 1, Daily  20191106         D   \n",
       "257  Cushing, OK Crude Oil Future Contract 1, Daily  20191105         D   \n",
       "258  Cushing, OK Crude Oil Future Contract 1, Daily  20191104         D   \n",
       "259  Cushing, OK Crude Oil Future Contract 1, Daily  20191101         D   \n",
       "260  Cushing, OK Crude Oil Future Contract 1, Daily  20191031         D   \n",
       "\n",
       "     Value               Units  \n",
       "0    37.66  Dollars per Barrel  \n",
       "1    36.81  Dollars per Barrel  \n",
       "2    35.79  Dollars per Barrel  \n",
       "3    36.17  Dollars per Barrel  \n",
       "4    37.39  Dollars per Barrel  \n",
       "5    39.57  Dollars per Barrel  \n",
       "6    38.56  Dollars per Barrel  \n",
       "7    39.85  Dollars per Barrel  \n",
       "8    40.64  Dollars per Barrel  \n",
       "9    40.03  Dollars per Barrel  \n",
       "10   41.46  Dollars per Barrel  \n",
       "11   40.83  Dollars per Barrel  \n",
       "12   40.88  Dollars per Barrel  \n",
       "13   40.96  Dollars per Barrel  \n",
       "14   41.04  Dollars per Barrel  \n",
       "15   40.20  Dollars per Barrel  \n",
       "16   39.43  Dollars per Barrel  \n",
       "17   40.60  Dollars per Barrel  \n",
       "18   41.19  Dollars per Barrel  \n",
       "19   39.95  Dollars per Barrel  \n",
       "20   40.67  Dollars per Barrel  \n",
       "21   39.22  Dollars per Barrel  \n",
       "22   37.05  Dollars per Barrel  \n",
       "23   38.72  Dollars per Barrel  \n",
       "24   40.22  Dollars per Barrel  \n",
       "25   39.29  Dollars per Barrel  \n",
       "26   40.60  Dollars per Barrel  \n",
       "27   40.25  Dollars per Barrel  \n",
       "28   40.31  Dollars per Barrel  \n",
       "29   39.93  Dollars per Barrel  \n",
       "..     ...                 ...  \n",
       "231  59.18  Dollars per Barrel  \n",
       "232  58.76  Dollars per Barrel  \n",
       "233  59.24  Dollars per Barrel  \n",
       "234  59.02  Dollars per Barrel  \n",
       "235  59.20  Dollars per Barrel  \n",
       "236  58.43  Dollars per Barrel  \n",
       "237  58.43  Dollars per Barrel  \n",
       "238  56.10  Dollars per Barrel  \n",
       "239  55.96  Dollars per Barrel  \n",
       "240  58.11  Dollars per Barrel  \n",
       "241  58.11  Dollars per Barrel  \n",
       "242  58.41  Dollars per Barrel  \n",
       "243  58.01  Dollars per Barrel  \n",
       "244  57.77  Dollars per Barrel  \n",
       "245  58.58  Dollars per Barrel  \n",
       "246  57.11  Dollars per Barrel  \n",
       "247  55.21  Dollars per Barrel  \n",
       "248  57.05  Dollars per Barrel  \n",
       "249  57.72  Dollars per Barrel  \n",
       "250  56.77  Dollars per Barrel  \n",
       "251  57.12  Dollars per Barrel  \n",
       "252  56.80  Dollars per Barrel  \n",
       "253  56.86  Dollars per Barrel  \n",
       "254  57.24  Dollars per Barrel  \n",
       "255  57.15  Dollars per Barrel  \n",
       "256  56.35  Dollars per Barrel  \n",
       "257  57.23  Dollars per Barrel  \n",
       "258  56.54  Dollars per Barrel  \n",
       "259  56.20  Dollars per Barrel  \n",
       "260  54.18  Dollars per Barrel  \n",
       "\n",
       "[261 rows x 5 columns]"
      ],
      "text/html": "<div>\n<style scoped>\n    .dataframe tbody tr th:only-of-type {\n        vertical-align: middle;\n    }\n\n    .dataframe tbody tr th {\n        vertical-align: top;\n    }\n\n    .dataframe thead th {\n        text-align: right;\n    }\n</style>\n<table border=\"1\" class=\"dataframe\">\n  <thead>\n    <tr style=\"text-align: right;\">\n      <th></th>\n      <th>Series Name</th>\n      <th>Period</th>\n      <th>Frequency</th>\n      <th>Value</th>\n      <th>Units</th>\n    </tr>\n  </thead>\n  <tbody>\n    <tr>\n      <th>0</th>\n      <td>Cushing, OK Crude Oil Future Contract 1, Daily</td>\n      <td>20201103</td>\n      <td>D</td>\n      <td>37.66</td>\n      <td>Dollars per Barrel</td>\n    </tr>\n    <tr>\n      <th>1</th>\n      <td>Cushing, OK Crude Oil Future Contract 1, Daily</td>\n      <td>20201102</td>\n      <td>D</td>\n      <td>36.81</td>\n      <td>Dollars per Barrel</td>\n    </tr>\n    <tr>\n      <th>2</th>\n      <td>Cushing, OK Crude Oil Future Contract 1, Daily</td>\n      <td>20201030</td>\n      <td>D</td>\n      <td>35.79</td>\n      <td>Dollars per Barrel</td>\n    </tr>\n    <tr>\n      <th>3</th>\n      <td>Cushing, OK Crude Oil Future Contract 1, Daily</td>\n      <td>20201029</td>\n      <td>D</td>\n      <td>36.17</td>\n      <td>Dollars per Barrel</td>\n    </tr>\n    <tr>\n      <th>4</th>\n      <td>Cushing, OK Crude Oil Future Contract 1, Daily</td>\n      <td>20201028</td>\n      <td>D</td>\n      <td>37.39</td>\n      <td>Dollars per Barrel</td>\n    </tr>\n    <tr>\n      <th>5</th>\n      <td>Cushing, OK Crude Oil Future Contract 1, Daily</td>\n      <td>20201027</td>\n      <td>D</td>\n      <td>39.57</td>\n      <td>Dollars per Barrel</td>\n    </tr>\n    <tr>\n      <th>6</th>\n      <td>Cushing, OK Crude Oil Future Contract 1, Daily</td>\n      <td>20201026</td>\n      <td>D</td>\n      <td>38.56</td>\n      <td>Dollars per Barrel</td>\n    </tr>\n    <tr>\n      <th>7</th>\n      <td>Cushing, OK Crude Oil Future Contract 1, Daily</td>\n      <td>20201023</td>\n      <td>D</td>\n      <td>39.85</td>\n      <td>Dollars per Barrel</td>\n    </tr>\n    <tr>\n      <th>8</th>\n      <td>Cushing, OK Crude Oil Future Contract 1, Daily</td>\n      <td>20201022</td>\n      <td>D</td>\n      <td>40.64</td>\n      <td>Dollars per Barrel</td>\n    </tr>\n    <tr>\n      <th>9</th>\n      <td>Cushing, OK Crude Oil Future Contract 1, Daily</td>\n      <td>20201021</td>\n      <td>D</td>\n      <td>40.03</td>\n      <td>Dollars per Barrel</td>\n    </tr>\n    <tr>\n      <th>10</th>\n      <td>Cushing, OK Crude Oil Future Contract 1, Daily</td>\n      <td>20201020</td>\n      <td>D</td>\n      <td>41.46</td>\n      <td>Dollars per Barrel</td>\n    </tr>\n    <tr>\n      <th>11</th>\n      <td>Cushing, OK Crude Oil Future Contract 1, Daily</td>\n      <td>20201019</td>\n      <td>D</td>\n      <td>40.83</td>\n      <td>Dollars per Barrel</td>\n    </tr>\n    <tr>\n      <th>12</th>\n      <td>Cushing, OK Crude Oil Future Contract 1, Daily</td>\n      <td>20201016</td>\n      <td>D</td>\n      <td>40.88</td>\n      <td>Dollars per Barrel</td>\n    </tr>\n    <tr>\n      <th>13</th>\n      <td>Cushing, OK Crude Oil Future Contract 1, Daily</td>\n      <td>20201015</td>\n      <td>D</td>\n      <td>40.96</td>\n      <td>Dollars per Barrel</td>\n    </tr>\n    <tr>\n      <th>14</th>\n      <td>Cushing, OK Crude Oil Future Contract 1, Daily</td>\n      <td>20201014</td>\n      <td>D</td>\n      <td>41.04</td>\n      <td>Dollars per Barrel</td>\n    </tr>\n    <tr>\n      <th>15</th>\n      <td>Cushing, OK Crude Oil Future Contract 1, Daily</td>\n      <td>20201013</td>\n      <td>D</td>\n      <td>40.20</td>\n      <td>Dollars per Barrel</td>\n    </tr>\n    <tr>\n      <th>16</th>\n      <td>Cushing, OK Crude Oil Future Contract 1, Daily</td>\n      <td>20201012</td>\n      <td>D</td>\n      <td>39.43</td>\n      <td>Dollars per Barrel</td>\n    </tr>\n    <tr>\n      <th>17</th>\n      <td>Cushing, OK Crude Oil Future Contract 1, Daily</td>\n      <td>20201009</td>\n      <td>D</td>\n      <td>40.60</td>\n      <td>Dollars per Barrel</td>\n    </tr>\n    <tr>\n      <th>18</th>\n      <td>Cushing, OK Crude Oil Future Contract 1, Daily</td>\n      <td>20201008</td>\n      <td>D</td>\n      <td>41.19</td>\n      <td>Dollars per Barrel</td>\n    </tr>\n    <tr>\n      <th>19</th>\n      <td>Cushing, OK Crude Oil Future Contract 1, Daily</td>\n      <td>20201007</td>\n      <td>D</td>\n      <td>39.95</td>\n      <td>Dollars per Barrel</td>\n    </tr>\n    <tr>\n      <th>20</th>\n      <td>Cushing, OK Crude Oil Future Contract 1, Daily</td>\n      <td>20201006</td>\n      <td>D</td>\n      <td>40.67</td>\n      <td>Dollars per Barrel</td>\n    </tr>\n    <tr>\n      <th>21</th>\n      <td>Cushing, OK Crude Oil Future Contract 1, Daily</td>\n      <td>20201005</td>\n      <td>D</td>\n      <td>39.22</td>\n      <td>Dollars per Barrel</td>\n    </tr>\n    <tr>\n      <th>22</th>\n      <td>Cushing, OK Crude Oil Future Contract 1, Daily</td>\n      <td>20201002</td>\n      <td>D</td>\n      <td>37.05</td>\n      <td>Dollars per Barrel</td>\n    </tr>\n    <tr>\n      <th>23</th>\n      <td>Cushing, OK Crude Oil Future Contract 1, Daily</td>\n      <td>20201001</td>\n      <td>D</td>\n      <td>38.72</td>\n      <td>Dollars per Barrel</td>\n    </tr>\n    <tr>\n      <th>24</th>\n      <td>Cushing, OK Crude Oil Future Contract 1, Daily</td>\n      <td>20200930</td>\n      <td>D</td>\n      <td>40.22</td>\n      <td>Dollars per Barrel</td>\n    </tr>\n    <tr>\n      <th>25</th>\n      <td>Cushing, OK Crude Oil Future Contract 1, Daily</td>\n      <td>20200929</td>\n      <td>D</td>\n      <td>39.29</td>\n      <td>Dollars per Barrel</td>\n    </tr>\n    <tr>\n      <th>26</th>\n      <td>Cushing, OK Crude Oil Future Contract 1, Daily</td>\n      <td>20200928</td>\n      <td>D</td>\n      <td>40.60</td>\n      <td>Dollars per Barrel</td>\n    </tr>\n    <tr>\n      <th>27</th>\n      <td>Cushing, OK Crude Oil Future Contract 1, Daily</td>\n      <td>20200925</td>\n      <td>D</td>\n      <td>40.25</td>\n      <td>Dollars per Barrel</td>\n    </tr>\n    <tr>\n      <th>28</th>\n      <td>Cushing, OK Crude Oil Future Contract 1, Daily</td>\n      <td>20200924</td>\n      <td>D</td>\n      <td>40.31</td>\n      <td>Dollars per Barrel</td>\n    </tr>\n    <tr>\n      <th>29</th>\n      <td>Cushing, OK Crude Oil Future Contract 1, Daily</td>\n      <td>20200923</td>\n      <td>D</td>\n      <td>39.93</td>\n      <td>Dollars per Barrel</td>\n    </tr>\n    <tr>\n      <th>...</th>\n      <td>...</td>\n      <td>...</td>\n      <td>...</td>\n      <td>...</td>\n      <td>...</td>\n    </tr>\n    <tr>\n      <th>231</th>\n      <td>Cushing, OK Crude Oil Future Contract 1, Daily</td>\n      <td>20191212</td>\n      <td>D</td>\n      <td>59.18</td>\n      <td>Dollars per Barrel</td>\n    </tr>\n    <tr>\n      <th>232</th>\n      <td>Cushing, OK Crude Oil Future Contract 1, Daily</td>\n      <td>20191211</td>\n      <td>D</td>\n      <td>58.76</td>\n      <td>Dollars per Barrel</td>\n    </tr>\n    <tr>\n      <th>233</th>\n      <td>Cushing, OK Crude Oil Future Contract 1, Daily</td>\n      <td>20191210</td>\n      <td>D</td>\n      <td>59.24</td>\n      <td>Dollars per Barrel</td>\n    </tr>\n    <tr>\n      <th>234</th>\n      <td>Cushing, OK Crude Oil Future Contract 1, Daily</td>\n      <td>20191209</td>\n      <td>D</td>\n      <td>59.02</td>\n      <td>Dollars per Barrel</td>\n    </tr>\n    <tr>\n      <th>235</th>\n      <td>Cushing, OK Crude Oil Future Contract 1, Daily</td>\n      <td>20191206</td>\n      <td>D</td>\n      <td>59.20</td>\n      <td>Dollars per Barrel</td>\n    </tr>\n    <tr>\n      <th>236</th>\n      <td>Cushing, OK Crude Oil Future Contract 1, Daily</td>\n      <td>20191205</td>\n      <td>D</td>\n      <td>58.43</td>\n      <td>Dollars per Barrel</td>\n    </tr>\n    <tr>\n      <th>237</th>\n      <td>Cushing, OK Crude Oil Future Contract 1, Daily</td>\n      <td>20191204</td>\n      <td>D</td>\n      <td>58.43</td>\n      <td>Dollars per Barrel</td>\n    </tr>\n    <tr>\n      <th>238</th>\n      <td>Cushing, OK Crude Oil Future Contract 1, Daily</td>\n      <td>20191203</td>\n      <td>D</td>\n      <td>56.10</td>\n      <td>Dollars per Barrel</td>\n    </tr>\n    <tr>\n      <th>239</th>\n      <td>Cushing, OK Crude Oil Future Contract 1, Daily</td>\n      <td>20191202</td>\n      <td>D</td>\n      <td>55.96</td>\n      <td>Dollars per Barrel</td>\n    </tr>\n    <tr>\n      <th>240</th>\n      <td>Cushing, OK Crude Oil Future Contract 1, Daily</td>\n      <td>20191128</td>\n      <td>D</td>\n      <td>58.11</td>\n      <td>Dollars per Barrel</td>\n    </tr>\n    <tr>\n      <th>241</th>\n      <td>Cushing, OK Crude Oil Future Contract 1, Daily</td>\n      <td>20191127</td>\n      <td>D</td>\n      <td>58.11</td>\n      <td>Dollars per Barrel</td>\n    </tr>\n    <tr>\n      <th>242</th>\n      <td>Cushing, OK Crude Oil Future Contract 1, Daily</td>\n      <td>20191126</td>\n      <td>D</td>\n      <td>58.41</td>\n      <td>Dollars per Barrel</td>\n    </tr>\n    <tr>\n      <th>243</th>\n      <td>Cushing, OK Crude Oil Future Contract 1, Daily</td>\n      <td>20191125</td>\n      <td>D</td>\n      <td>58.01</td>\n      <td>Dollars per Barrel</td>\n    </tr>\n    <tr>\n      <th>244</th>\n      <td>Cushing, OK Crude Oil Future Contract 1, Daily</td>\n      <td>20191122</td>\n      <td>D</td>\n      <td>57.77</td>\n      <td>Dollars per Barrel</td>\n    </tr>\n    <tr>\n      <th>245</th>\n      <td>Cushing, OK Crude Oil Future Contract 1, Daily</td>\n      <td>20191121</td>\n      <td>D</td>\n      <td>58.58</td>\n      <td>Dollars per Barrel</td>\n    </tr>\n    <tr>\n      <th>246</th>\n      <td>Cushing, OK Crude Oil Future Contract 1, Daily</td>\n      <td>20191120</td>\n      <td>D</td>\n      <td>57.11</td>\n      <td>Dollars per Barrel</td>\n    </tr>\n    <tr>\n      <th>247</th>\n      <td>Cushing, OK Crude Oil Future Contract 1, Daily</td>\n      <td>20191119</td>\n      <td>D</td>\n      <td>55.21</td>\n      <td>Dollars per Barrel</td>\n    </tr>\n    <tr>\n      <th>248</th>\n      <td>Cushing, OK Crude Oil Future Contract 1, Daily</td>\n      <td>20191118</td>\n      <td>D</td>\n      <td>57.05</td>\n      <td>Dollars per Barrel</td>\n    </tr>\n    <tr>\n      <th>249</th>\n      <td>Cushing, OK Crude Oil Future Contract 1, Daily</td>\n      <td>20191115</td>\n      <td>D</td>\n      <td>57.72</td>\n      <td>Dollars per Barrel</td>\n    </tr>\n    <tr>\n      <th>250</th>\n      <td>Cushing, OK Crude Oil Future Contract 1, Daily</td>\n      <td>20191114</td>\n      <td>D</td>\n      <td>56.77</td>\n      <td>Dollars per Barrel</td>\n    </tr>\n    <tr>\n      <th>251</th>\n      <td>Cushing, OK Crude Oil Future Contract 1, Daily</td>\n      <td>20191113</td>\n      <td>D</td>\n      <td>57.12</td>\n      <td>Dollars per Barrel</td>\n    </tr>\n    <tr>\n      <th>252</th>\n      <td>Cushing, OK Crude Oil Future Contract 1, Daily</td>\n      <td>20191112</td>\n      <td>D</td>\n      <td>56.80</td>\n      <td>Dollars per Barrel</td>\n    </tr>\n    <tr>\n      <th>253</th>\n      <td>Cushing, OK Crude Oil Future Contract 1, Daily</td>\n      <td>20191111</td>\n      <td>D</td>\n      <td>56.86</td>\n      <td>Dollars per Barrel</td>\n    </tr>\n    <tr>\n      <th>254</th>\n      <td>Cushing, OK Crude Oil Future Contract 1, Daily</td>\n      <td>20191108</td>\n      <td>D</td>\n      <td>57.24</td>\n      <td>Dollars per Barrel</td>\n    </tr>\n    <tr>\n      <th>255</th>\n      <td>Cushing, OK Crude Oil Future Contract 1, Daily</td>\n      <td>20191107</td>\n      <td>D</td>\n      <td>57.15</td>\n      <td>Dollars per Barrel</td>\n    </tr>\n    <tr>\n      <th>256</th>\n      <td>Cushing, OK Crude Oil Future Contract 1, Daily</td>\n      <td>20191106</td>\n      <td>D</td>\n      <td>56.35</td>\n      <td>Dollars per Barrel</td>\n    </tr>\n    <tr>\n      <th>257</th>\n      <td>Cushing, OK Crude Oil Future Contract 1, Daily</td>\n      <td>20191105</td>\n      <td>D</td>\n      <td>57.23</td>\n      <td>Dollars per Barrel</td>\n    </tr>\n    <tr>\n      <th>258</th>\n      <td>Cushing, OK Crude Oil Future Contract 1, Daily</td>\n      <td>20191104</td>\n      <td>D</td>\n      <td>56.54</td>\n      <td>Dollars per Barrel</td>\n    </tr>\n    <tr>\n      <th>259</th>\n      <td>Cushing, OK Crude Oil Future Contract 1, Daily</td>\n      <td>20191101</td>\n      <td>D</td>\n      <td>56.20</td>\n      <td>Dollars per Barrel</td>\n    </tr>\n    <tr>\n      <th>260</th>\n      <td>Cushing, OK Crude Oil Future Contract 1, Daily</td>\n      <td>20191031</td>\n      <td>D</td>\n      <td>54.18</td>\n      <td>Dollars per Barrel</td>\n    </tr>\n  </tbody>\n</table>\n<p>261 rows × 5 columns</p>\n</div>"
     },
     "metadata": {},
     "execution_count": 25
    }
   ],
   "source": [
    "ngspot_df"
   ]
  },
  {
   "cell_type": "code",
   "execution_count": 26,
   "metadata": {},
   "outputs": [],
   "source": [
    "ngspot_df.to_csv(\"../data/energy_data/raw_data/CLFut1_2019-2020.csv\")"
   ]
  },
  {
   "cell_type": "code",
   "execution_count": null,
   "metadata": {},
   "outputs": [],
   "source": []
  }
 ]
}