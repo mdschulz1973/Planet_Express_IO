{
 "metadata": {
  "language_info": {
   "codemirror_mode": {
    "name": "ipython",
    "version": 3
   },
   "file_extension": ".py",
   "mimetype": "text/x-python",
   "name": "python",
   "nbconvert_exporter": "python",
   "pygments_lexer": "ipython3",
   "version": "3.7.7-final"
  },
  "orig_nbformat": 2,
  "kernelspec": {
   "name": "Python 3.7.7 64-bit ('pyvizenv': conda)",
   "display_name": "Python 3.7.7 64-bit ('pyvizenv': conda)",
   "metadata": {
    "interpreter": {
     "hash": "853c8529c45b54e3859f720efefe4fcd4632a07102e5a2ccce1bdf7f404e408c"
    }
   }
  }
 },
 "nbformat": 4,
 "nbformat_minor": 2,
 "cells": [
  {
   "cell_type": "code",
   "execution_count": 135,
   "metadata": {},
   "outputs": [],
   "source": [
    "import pandas as pd \n",
    "from pathlib import Path"
   ]
  },
  {
   "cell_type": "code",
   "execution_count": 136,
   "metadata": {},
   "outputs": [],
   "source": [
    "btc_path = Path(\"../data/crypto_data/output_batch_combined_BTC.csv\")\n",
    "energy_data_path = Path(\"../data/energy_data/clean_data/clean_energy_data.csv\")\n"
   ]
  },
  {
   "cell_type": "code",
   "execution_count": 137,
   "metadata": {},
   "outputs": [],
   "source": [
    "btc_df = pd.read_csv(btc_path)\n",
    "energy_df = pd.read_csv(energy_data_path)"
   ]
  },
  {
   "cell_type": "code",
   "execution_count": 138,
   "metadata": {},
   "outputs": [],
   "source": [
    "btc_df.drop(columns=[\"Unnamed: 0\", \"Date\", \"Crypto\", \"Low\", \"High\", \"Open\", \"Volume\"], inplace=True)\n",
    "# btc_df.set_index(btc_df[\"Date\"])"
   ]
  },
  {
   "cell_type": "code",
   "execution_count": 139,
   "metadata": {},
   "outputs": [],
   "source": [
    "energy_btc_df = pd.concat([btc_df, energy_df], axis=\"columns\", join=\"inner\")"
   ]
  },
  {
   "cell_type": "code",
   "execution_count": 140,
   "metadata": {},
   "outputs": [
    {
     "output_type": "execute_result",
     "data": {
      "text/plain": [
       "               BTC  CL Fut  CL Spot  NG Fut  NG Spot\n",
       "Date                                                \n",
       "20201103  13571.51   37.66    37.44   3.059     2.88\n",
       "20201102  13460.00   36.81    36.60   3.244     3.03\n",
       "20201030  13281.05   35.79    35.64   3.354     3.03\n",
       "20201029  13698.18   36.17    35.94   3.301     3.06\n",
       "20201028  13068.79   37.39    37.27   2.996     3.14\n",
       "20201027  13045.00   39.57    39.34   3.019     3.07\n",
       "20201026  13126.24   38.56    38.39   3.024     3.14\n",
       "20201023  12937.09   39.85    39.73   2.971     2.91\n",
       "20201022  12987.02   40.64    40.46   3.007     2.99\n",
       "20201021  12808.00   40.03    39.88   3.023     2.95\n",
       "20201020  11923.83   41.46    41.37   2.913     2.57\n",
       "20201019  11760.45   40.83    40.69   2.795     2.30\n",
       "20201016  11514.20   40.88    40.70   2.773     2.16\n",
       "20201015  11367.89   40.96    40.84   2.775     2.23\n",
       "20201014  11328.95   41.04    40.86   2.636     2.02\n",
       "20201013  11509.34   40.20    40.03   2.855     2.14\n",
       "20201012  11427.70   39.43    39.22   2.881     2.31\n",
       "20201009  11428.22   40.60    40.44   2.741     2.25\n",
       "20201008  11535.46   41.19    41.04   2.627     1.49\n",
       "20201007  11374.01   39.95    39.82   2.606     2.01\n",
       "20201006  11299.50   40.67    40.52   2.520     1.86\n",
       "20201005  11057.07   39.22    39.12   2.615     1.92\n",
       "20201002  10933.09   37.05    36.90   2.438     1.41\n",
       "20201001  10670.47   38.72    38.51   2.527     1.60\n",
       "20200930  10602.66   40.22    40.05   2.527     1.66\n",
       "20200929  10795.00   39.29    39.03   2.561     1.74\n",
       "20200928  10671.11   40.60    40.47   2.101     1.83\n",
       "20200925  10551.65   40.25    40.06   2.139     1.90\n",
       "20200924  10573.12   40.31    40.11   2.248     1.93\n",
       "20200923  10617.63   39.93    39.92   2.125     1.74\n",
       "...            ...     ...      ...     ...      ...\n",
       "20191213   5413.64   60.07    60.11   2.296     2.28\n",
       "20191212   5331.71   59.18    59.18   2.328     2.28\n",
       "20191211   5037.61   58.76    58.74   2.243     2.28\n",
       "20191210   5345.35   59.24    59.22   2.264     2.18\n",
       "20191209   5165.25   59.02    58.99   2.232     2.17\n",
       "20191206   5637.60   59.20    59.20   2.334     2.31\n",
       "20191205   4857.10   58.43    58.42   2.427     2.42\n",
       "20191204   7938.05   58.43    58.46   2.399     2.43\n",
       "20191203   7894.68   56.10    56.15   2.441     2.42\n",
       "20191202   7934.52   55.96    55.97   2.329     2.29\n",
       "20191127   8037.76   58.11    58.12   2.501     2.46\n",
       "20191126   8901.37   58.41    58.25   2.470     2.51\n",
       "20191125   9158.51   58.01    57.79   2.531     2.51\n",
       "20191122   9070.17   57.77    57.68   2.665     2.62\n",
       "20191121   8760.66   58.58    58.36   2.567     2.53\n",
       "20191120   8757.84   57.11    56.71   2.559     2.56\n",
       "20191119   8915.00   55.21    54.93   2.510     2.53\n",
       "20191118   8522.31   57.05    56.82   2.566     2.64\n",
       "20191115   8525.07   57.72    57.54   2.688     2.70\n",
       "20191114   8708.89   56.77    56.57   2.647     2.68\n",
       "20191113   8812.49   57.12    56.88   2.600     2.66\n",
       "20191112   8778.30   56.80    56.67   2.621     2.72\n",
       "20191111   9305.00   56.86    56.61   2.637     2.87\n",
       "20191108   9660.00   57.24    57.02   2.789     2.87\n",
       "20191107   9965.01   57.15    56.91   2.772     2.84\n",
       "20191106   9668.23   56.35    56.15   2.828     2.82\n",
       "20191105   9695.66   57.23    57.04   2.862     2.77\n",
       "20191104   9610.05   56.54    56.33   2.821     2.77\n",
       "20191101   9600.08   56.20    56.04   2.714     2.54\n",
       "20191031  10188.04   54.18    54.02   2.633     2.73\n",
       "\n",
       "[256 rows x 5 columns]"
      ],
      "text/html": "<div>\n<style scoped>\n    .dataframe tbody tr th:only-of-type {\n        vertical-align: middle;\n    }\n\n    .dataframe tbody tr th {\n        vertical-align: top;\n    }\n\n    .dataframe thead th {\n        text-align: right;\n    }\n</style>\n<table border=\"1\" class=\"dataframe\">\n  <thead>\n    <tr style=\"text-align: right;\">\n      <th></th>\n      <th>BTC</th>\n      <th>CL Fut</th>\n      <th>CL Spot</th>\n      <th>NG Fut</th>\n      <th>NG Spot</th>\n    </tr>\n    <tr>\n      <th>Date</th>\n      <th></th>\n      <th></th>\n      <th></th>\n      <th></th>\n      <th></th>\n    </tr>\n  </thead>\n  <tbody>\n    <tr>\n      <th>20201103</th>\n      <td>13571.51</td>\n      <td>37.66</td>\n      <td>37.44</td>\n      <td>3.059</td>\n      <td>2.88</td>\n    </tr>\n    <tr>\n      <th>20201102</th>\n      <td>13460.00</td>\n      <td>36.81</td>\n      <td>36.60</td>\n      <td>3.244</td>\n      <td>3.03</td>\n    </tr>\n    <tr>\n      <th>20201030</th>\n      <td>13281.05</td>\n      <td>35.79</td>\n      <td>35.64</td>\n      <td>3.354</td>\n      <td>3.03</td>\n    </tr>\n    <tr>\n      <th>20201029</th>\n      <td>13698.18</td>\n      <td>36.17</td>\n      <td>35.94</td>\n      <td>3.301</td>\n      <td>3.06</td>\n    </tr>\n    <tr>\n      <th>20201028</th>\n      <td>13068.79</td>\n      <td>37.39</td>\n      <td>37.27</td>\n      <td>2.996</td>\n      <td>3.14</td>\n    </tr>\n    <tr>\n      <th>20201027</th>\n      <td>13045.00</td>\n      <td>39.57</td>\n      <td>39.34</td>\n      <td>3.019</td>\n      <td>3.07</td>\n    </tr>\n    <tr>\n      <th>20201026</th>\n      <td>13126.24</td>\n      <td>38.56</td>\n      <td>38.39</td>\n      <td>3.024</td>\n      <td>3.14</td>\n    </tr>\n    <tr>\n      <th>20201023</th>\n      <td>12937.09</td>\n      <td>39.85</td>\n      <td>39.73</td>\n      <td>2.971</td>\n      <td>2.91</td>\n    </tr>\n    <tr>\n      <th>20201022</th>\n      <td>12987.02</td>\n      <td>40.64</td>\n      <td>40.46</td>\n      <td>3.007</td>\n      <td>2.99</td>\n    </tr>\n    <tr>\n      <th>20201021</th>\n      <td>12808.00</td>\n      <td>40.03</td>\n      <td>39.88</td>\n      <td>3.023</td>\n      <td>2.95</td>\n    </tr>\n    <tr>\n      <th>20201020</th>\n      <td>11923.83</td>\n      <td>41.46</td>\n      <td>41.37</td>\n      <td>2.913</td>\n      <td>2.57</td>\n    </tr>\n    <tr>\n      <th>20201019</th>\n      <td>11760.45</td>\n      <td>40.83</td>\n      <td>40.69</td>\n      <td>2.795</td>\n      <td>2.30</td>\n    </tr>\n    <tr>\n      <th>20201016</th>\n      <td>11514.20</td>\n      <td>40.88</td>\n      <td>40.70</td>\n      <td>2.773</td>\n      <td>2.16</td>\n    </tr>\n    <tr>\n      <th>20201015</th>\n      <td>11367.89</td>\n      <td>40.96</td>\n      <td>40.84</td>\n      <td>2.775</td>\n      <td>2.23</td>\n    </tr>\n    <tr>\n      <th>20201014</th>\n      <td>11328.95</td>\n      <td>41.04</td>\n      <td>40.86</td>\n      <td>2.636</td>\n      <td>2.02</td>\n    </tr>\n    <tr>\n      <th>20201013</th>\n      <td>11509.34</td>\n      <td>40.20</td>\n      <td>40.03</td>\n      <td>2.855</td>\n      <td>2.14</td>\n    </tr>\n    <tr>\n      <th>20201012</th>\n      <td>11427.70</td>\n      <td>39.43</td>\n      <td>39.22</td>\n      <td>2.881</td>\n      <td>2.31</td>\n    </tr>\n    <tr>\n      <th>20201009</th>\n      <td>11428.22</td>\n      <td>40.60</td>\n      <td>40.44</td>\n      <td>2.741</td>\n      <td>2.25</td>\n    </tr>\n    <tr>\n      <th>20201008</th>\n      <td>11535.46</td>\n      <td>41.19</td>\n      <td>41.04</td>\n      <td>2.627</td>\n      <td>1.49</td>\n    </tr>\n    <tr>\n      <th>20201007</th>\n      <td>11374.01</td>\n      <td>39.95</td>\n      <td>39.82</td>\n      <td>2.606</td>\n      <td>2.01</td>\n    </tr>\n    <tr>\n      <th>20201006</th>\n      <td>11299.50</td>\n      <td>40.67</td>\n      <td>40.52</td>\n      <td>2.520</td>\n      <td>1.86</td>\n    </tr>\n    <tr>\n      <th>20201005</th>\n      <td>11057.07</td>\n      <td>39.22</td>\n      <td>39.12</td>\n      <td>2.615</td>\n      <td>1.92</td>\n    </tr>\n    <tr>\n      <th>20201002</th>\n      <td>10933.09</td>\n      <td>37.05</td>\n      <td>36.90</td>\n      <td>2.438</td>\n      <td>1.41</td>\n    </tr>\n    <tr>\n      <th>20201001</th>\n      <td>10670.47</td>\n      <td>38.72</td>\n      <td>38.51</td>\n      <td>2.527</td>\n      <td>1.60</td>\n    </tr>\n    <tr>\n      <th>20200930</th>\n      <td>10602.66</td>\n      <td>40.22</td>\n      <td>40.05</td>\n      <td>2.527</td>\n      <td>1.66</td>\n    </tr>\n    <tr>\n      <th>20200929</th>\n      <td>10795.00</td>\n      <td>39.29</td>\n      <td>39.03</td>\n      <td>2.561</td>\n      <td>1.74</td>\n    </tr>\n    <tr>\n      <th>20200928</th>\n      <td>10671.11</td>\n      <td>40.60</td>\n      <td>40.47</td>\n      <td>2.101</td>\n      <td>1.83</td>\n    </tr>\n    <tr>\n      <th>20200925</th>\n      <td>10551.65</td>\n      <td>40.25</td>\n      <td>40.06</td>\n      <td>2.139</td>\n      <td>1.90</td>\n    </tr>\n    <tr>\n      <th>20200924</th>\n      <td>10573.12</td>\n      <td>40.31</td>\n      <td>40.11</td>\n      <td>2.248</td>\n      <td>1.93</td>\n    </tr>\n    <tr>\n      <th>20200923</th>\n      <td>10617.63</td>\n      <td>39.93</td>\n      <td>39.92</td>\n      <td>2.125</td>\n      <td>1.74</td>\n    </tr>\n    <tr>\n      <th>...</th>\n      <td>...</td>\n      <td>...</td>\n      <td>...</td>\n      <td>...</td>\n      <td>...</td>\n    </tr>\n    <tr>\n      <th>20191213</th>\n      <td>5413.64</td>\n      <td>60.07</td>\n      <td>60.11</td>\n      <td>2.296</td>\n      <td>2.28</td>\n    </tr>\n    <tr>\n      <th>20191212</th>\n      <td>5331.71</td>\n      <td>59.18</td>\n      <td>59.18</td>\n      <td>2.328</td>\n      <td>2.28</td>\n    </tr>\n    <tr>\n      <th>20191211</th>\n      <td>5037.61</td>\n      <td>58.76</td>\n      <td>58.74</td>\n      <td>2.243</td>\n      <td>2.28</td>\n    </tr>\n    <tr>\n      <th>20191210</th>\n      <td>5345.35</td>\n      <td>59.24</td>\n      <td>59.22</td>\n      <td>2.264</td>\n      <td>2.18</td>\n    </tr>\n    <tr>\n      <th>20191209</th>\n      <td>5165.25</td>\n      <td>59.02</td>\n      <td>58.99</td>\n      <td>2.232</td>\n      <td>2.17</td>\n    </tr>\n    <tr>\n      <th>20191206</th>\n      <td>5637.60</td>\n      <td>59.20</td>\n      <td>59.20</td>\n      <td>2.334</td>\n      <td>2.31</td>\n    </tr>\n    <tr>\n      <th>20191205</th>\n      <td>4857.10</td>\n      <td>58.43</td>\n      <td>58.42</td>\n      <td>2.427</td>\n      <td>2.42</td>\n    </tr>\n    <tr>\n      <th>20191204</th>\n      <td>7938.05</td>\n      <td>58.43</td>\n      <td>58.46</td>\n      <td>2.399</td>\n      <td>2.43</td>\n    </tr>\n    <tr>\n      <th>20191203</th>\n      <td>7894.68</td>\n      <td>56.10</td>\n      <td>56.15</td>\n      <td>2.441</td>\n      <td>2.42</td>\n    </tr>\n    <tr>\n      <th>20191202</th>\n      <td>7934.52</td>\n      <td>55.96</td>\n      <td>55.97</td>\n      <td>2.329</td>\n      <td>2.29</td>\n    </tr>\n    <tr>\n      <th>20191127</th>\n      <td>8037.76</td>\n      <td>58.11</td>\n      <td>58.12</td>\n      <td>2.501</td>\n      <td>2.46</td>\n    </tr>\n    <tr>\n      <th>20191126</th>\n      <td>8901.37</td>\n      <td>58.41</td>\n      <td>58.25</td>\n      <td>2.470</td>\n      <td>2.51</td>\n    </tr>\n    <tr>\n      <th>20191125</th>\n      <td>9158.51</td>\n      <td>58.01</td>\n      <td>57.79</td>\n      <td>2.531</td>\n      <td>2.51</td>\n    </tr>\n    <tr>\n      <th>20191122</th>\n      <td>9070.17</td>\n      <td>57.77</td>\n      <td>57.68</td>\n      <td>2.665</td>\n      <td>2.62</td>\n    </tr>\n    <tr>\n      <th>20191121</th>\n      <td>8760.66</td>\n      <td>58.58</td>\n      <td>58.36</td>\n      <td>2.567</td>\n      <td>2.53</td>\n    </tr>\n    <tr>\n      <th>20191120</th>\n      <td>8757.84</td>\n      <td>57.11</td>\n      <td>56.71</td>\n      <td>2.559</td>\n      <td>2.56</td>\n    </tr>\n    <tr>\n      <th>20191119</th>\n      <td>8915.00</td>\n      <td>55.21</td>\n      <td>54.93</td>\n      <td>2.510</td>\n      <td>2.53</td>\n    </tr>\n    <tr>\n      <th>20191118</th>\n      <td>8522.31</td>\n      <td>57.05</td>\n      <td>56.82</td>\n      <td>2.566</td>\n      <td>2.64</td>\n    </tr>\n    <tr>\n      <th>20191115</th>\n      <td>8525.07</td>\n      <td>57.72</td>\n      <td>57.54</td>\n      <td>2.688</td>\n      <td>2.70</td>\n    </tr>\n    <tr>\n      <th>20191114</th>\n      <td>8708.89</td>\n      <td>56.77</td>\n      <td>56.57</td>\n      <td>2.647</td>\n      <td>2.68</td>\n    </tr>\n    <tr>\n      <th>20191113</th>\n      <td>8812.49</td>\n      <td>57.12</td>\n      <td>56.88</td>\n      <td>2.600</td>\n      <td>2.66</td>\n    </tr>\n    <tr>\n      <th>20191112</th>\n      <td>8778.30</td>\n      <td>56.80</td>\n      <td>56.67</td>\n      <td>2.621</td>\n      <td>2.72</td>\n    </tr>\n    <tr>\n      <th>20191111</th>\n      <td>9305.00</td>\n      <td>56.86</td>\n      <td>56.61</td>\n      <td>2.637</td>\n      <td>2.87</td>\n    </tr>\n    <tr>\n      <th>20191108</th>\n      <td>9660.00</td>\n      <td>57.24</td>\n      <td>57.02</td>\n      <td>2.789</td>\n      <td>2.87</td>\n    </tr>\n    <tr>\n      <th>20191107</th>\n      <td>9965.01</td>\n      <td>57.15</td>\n      <td>56.91</td>\n      <td>2.772</td>\n      <td>2.84</td>\n    </tr>\n    <tr>\n      <th>20191106</th>\n      <td>9668.23</td>\n      <td>56.35</td>\n      <td>56.15</td>\n      <td>2.828</td>\n      <td>2.82</td>\n    </tr>\n    <tr>\n      <th>20191105</th>\n      <td>9695.66</td>\n      <td>57.23</td>\n      <td>57.04</td>\n      <td>2.862</td>\n      <td>2.77</td>\n    </tr>\n    <tr>\n      <th>20191104</th>\n      <td>9610.05</td>\n      <td>56.54</td>\n      <td>56.33</td>\n      <td>2.821</td>\n      <td>2.77</td>\n    </tr>\n    <tr>\n      <th>20191101</th>\n      <td>9600.08</td>\n      <td>56.20</td>\n      <td>56.04</td>\n      <td>2.714</td>\n      <td>2.54</td>\n    </tr>\n    <tr>\n      <th>20191031</th>\n      <td>10188.04</td>\n      <td>54.18</td>\n      <td>54.02</td>\n      <td>2.633</td>\n      <td>2.73</td>\n    </tr>\n  </tbody>\n</table>\n<p>256 rows × 5 columns</p>\n</div>"
     },
     "metadata": {},
     "execution_count": 140
    }
   ],
   "source": [
    "energy_btc_df.set_index(energy_btc_df[\"Date\"], inplace=True)\n",
    "energy_btc_df.drop(columns=\"Date\", inplace=True)\n",
    "energy_btc_df.rename(columns={\"Close\": \"BTC\"})"
   ]
  },
  {
   "cell_type": "code",
   "execution_count": 141,
   "metadata": {},
   "outputs": [
    {
     "output_type": "execute_result",
     "data": {
      "text/plain": [
       "             Close  CL Fut  CL Spot  NG Fut  NG Spot\n",
       "Date                                                \n",
       "20201103  13571.51   37.66    37.44   3.059     2.88\n",
       "20201102  13460.00   36.81    36.60   3.244     3.03\n",
       "20201030  13281.05   35.79    35.64   3.354     3.03\n",
       "20201029  13698.18   36.17    35.94   3.301     3.06\n",
       "20201028  13068.79   37.39    37.27   2.996     3.14\n",
       "20201027  13045.00   39.57    39.34   3.019     3.07\n",
       "20201026  13126.24   38.56    38.39   3.024     3.14\n",
       "20201023  12937.09   39.85    39.73   2.971     2.91\n",
       "20201022  12987.02   40.64    40.46   3.007     2.99\n",
       "20201021  12808.00   40.03    39.88   3.023     2.95\n",
       "20201020  11923.83   41.46    41.37   2.913     2.57\n",
       "20201019  11760.45   40.83    40.69   2.795     2.30\n",
       "20201016  11514.20   40.88    40.70   2.773     2.16\n",
       "20201015  11367.89   40.96    40.84   2.775     2.23\n",
       "20201014  11328.95   41.04    40.86   2.636     2.02\n",
       "20201013  11509.34   40.20    40.03   2.855     2.14\n",
       "20201012  11427.70   39.43    39.22   2.881     2.31\n",
       "20201009  11428.22   40.60    40.44   2.741     2.25\n",
       "20201008  11535.46   41.19    41.04   2.627     1.49\n",
       "20201007  11374.01   39.95    39.82   2.606     2.01\n",
       "20201006  11299.50   40.67    40.52   2.520     1.86\n",
       "20201005  11057.07   39.22    39.12   2.615     1.92\n",
       "20201002  10933.09   37.05    36.90   2.438     1.41\n",
       "20201001  10670.47   38.72    38.51   2.527     1.60\n",
       "20200930  10602.66   40.22    40.05   2.527     1.66\n",
       "20200929  10795.00   39.29    39.03   2.561     1.74\n",
       "20200928  10671.11   40.60    40.47   2.101     1.83\n",
       "20200925  10551.65   40.25    40.06   2.139     1.90\n",
       "20200924  10573.12   40.31    40.11   2.248     1.93\n",
       "20200923  10617.63   39.93    39.92   2.125     1.74\n",
       "...            ...     ...      ...     ...      ...\n",
       "20191213   5413.64   60.07    60.11   2.296     2.28\n",
       "20191212   5331.71   59.18    59.18   2.328     2.28\n",
       "20191211   5037.61   58.76    58.74   2.243     2.28\n",
       "20191210   5345.35   59.24    59.22   2.264     2.18\n",
       "20191209   5165.25   59.02    58.99   2.232     2.17\n",
       "20191206   5637.60   59.20    59.20   2.334     2.31\n",
       "20191205   4857.10   58.43    58.42   2.427     2.42\n",
       "20191204   7938.05   58.43    58.46   2.399     2.43\n",
       "20191203   7894.68   56.10    56.15   2.441     2.42\n",
       "20191202   7934.52   55.96    55.97   2.329     2.29\n",
       "20191127   8037.76   58.11    58.12   2.501     2.46\n",
       "20191126   8901.37   58.41    58.25   2.470     2.51\n",
       "20191125   9158.51   58.01    57.79   2.531     2.51\n",
       "20191122   9070.17   57.77    57.68   2.665     2.62\n",
       "20191121   8760.66   58.58    58.36   2.567     2.53\n",
       "20191120   8757.84   57.11    56.71   2.559     2.56\n",
       "20191119   8915.00   55.21    54.93   2.510     2.53\n",
       "20191118   8522.31   57.05    56.82   2.566     2.64\n",
       "20191115   8525.07   57.72    57.54   2.688     2.70\n",
       "20191114   8708.89   56.77    56.57   2.647     2.68\n",
       "20191113   8812.49   57.12    56.88   2.600     2.66\n",
       "20191112   8778.30   56.80    56.67   2.621     2.72\n",
       "20191111   9305.00   56.86    56.61   2.637     2.87\n",
       "20191108   9660.00   57.24    57.02   2.789     2.87\n",
       "20191107   9965.01   57.15    56.91   2.772     2.84\n",
       "20191106   9668.23   56.35    56.15   2.828     2.82\n",
       "20191105   9695.66   57.23    57.04   2.862     2.77\n",
       "20191104   9610.05   56.54    56.33   2.821     2.77\n",
       "20191101   9600.08   56.20    56.04   2.714     2.54\n",
       "20191031  10188.04   54.18    54.02   2.633     2.73\n",
       "\n",
       "[256 rows x 5 columns]"
      ],
      "text/html": "<div>\n<style scoped>\n    .dataframe tbody tr th:only-of-type {\n        vertical-align: middle;\n    }\n\n    .dataframe tbody tr th {\n        vertical-align: top;\n    }\n\n    .dataframe thead th {\n        text-align: right;\n    }\n</style>\n<table border=\"1\" class=\"dataframe\">\n  <thead>\n    <tr style=\"text-align: right;\">\n      <th></th>\n      <th>Close</th>\n      <th>CL Fut</th>\n      <th>CL Spot</th>\n      <th>NG Fut</th>\n      <th>NG Spot</th>\n    </tr>\n    <tr>\n      <th>Date</th>\n      <th></th>\n      <th></th>\n      <th></th>\n      <th></th>\n      <th></th>\n    </tr>\n  </thead>\n  <tbody>\n    <tr>\n      <th>20201103</th>\n      <td>13571.51</td>\n      <td>37.66</td>\n      <td>37.44</td>\n      <td>3.059</td>\n      <td>2.88</td>\n    </tr>\n    <tr>\n      <th>20201102</th>\n      <td>13460.00</td>\n      <td>36.81</td>\n      <td>36.60</td>\n      <td>3.244</td>\n      <td>3.03</td>\n    </tr>\n    <tr>\n      <th>20201030</th>\n      <td>13281.05</td>\n      <td>35.79</td>\n      <td>35.64</td>\n      <td>3.354</td>\n      <td>3.03</td>\n    </tr>\n    <tr>\n      <th>20201029</th>\n      <td>13698.18</td>\n      <td>36.17</td>\n      <td>35.94</td>\n      <td>3.301</td>\n      <td>3.06</td>\n    </tr>\n    <tr>\n      <th>20201028</th>\n      <td>13068.79</td>\n      <td>37.39</td>\n      <td>37.27</td>\n      <td>2.996</td>\n      <td>3.14</td>\n    </tr>\n    <tr>\n      <th>20201027</th>\n      <td>13045.00</td>\n      <td>39.57</td>\n      <td>39.34</td>\n      <td>3.019</td>\n      <td>3.07</td>\n    </tr>\n    <tr>\n      <th>20201026</th>\n      <td>13126.24</td>\n      <td>38.56</td>\n      <td>38.39</td>\n      <td>3.024</td>\n      <td>3.14</td>\n    </tr>\n    <tr>\n      <th>20201023</th>\n      <td>12937.09</td>\n      <td>39.85</td>\n      <td>39.73</td>\n      <td>2.971</td>\n      <td>2.91</td>\n    </tr>\n    <tr>\n      <th>20201022</th>\n      <td>12987.02</td>\n      <td>40.64</td>\n      <td>40.46</td>\n      <td>3.007</td>\n      <td>2.99</td>\n    </tr>\n    <tr>\n      <th>20201021</th>\n      <td>12808.00</td>\n      <td>40.03</td>\n      <td>39.88</td>\n      <td>3.023</td>\n      <td>2.95</td>\n    </tr>\n    <tr>\n      <th>20201020</th>\n      <td>11923.83</td>\n      <td>41.46</td>\n      <td>41.37</td>\n      <td>2.913</td>\n      <td>2.57</td>\n    </tr>\n    <tr>\n      <th>20201019</th>\n      <td>11760.45</td>\n      <td>40.83</td>\n      <td>40.69</td>\n      <td>2.795</td>\n      <td>2.30</td>\n    </tr>\n    <tr>\n      <th>20201016</th>\n      <td>11514.20</td>\n      <td>40.88</td>\n      <td>40.70</td>\n      <td>2.773</td>\n      <td>2.16</td>\n    </tr>\n    <tr>\n      <th>20201015</th>\n      <td>11367.89</td>\n      <td>40.96</td>\n      <td>40.84</td>\n      <td>2.775</td>\n      <td>2.23</td>\n    </tr>\n    <tr>\n      <th>20201014</th>\n      <td>11328.95</td>\n      <td>41.04</td>\n      <td>40.86</td>\n      <td>2.636</td>\n      <td>2.02</td>\n    </tr>\n    <tr>\n      <th>20201013</th>\n      <td>11509.34</td>\n      <td>40.20</td>\n      <td>40.03</td>\n      <td>2.855</td>\n      <td>2.14</td>\n    </tr>\n    <tr>\n      <th>20201012</th>\n      <td>11427.70</td>\n      <td>39.43</td>\n      <td>39.22</td>\n      <td>2.881</td>\n      <td>2.31</td>\n    </tr>\n    <tr>\n      <th>20201009</th>\n      <td>11428.22</td>\n      <td>40.60</td>\n      <td>40.44</td>\n      <td>2.741</td>\n      <td>2.25</td>\n    </tr>\n    <tr>\n      <th>20201008</th>\n      <td>11535.46</td>\n      <td>41.19</td>\n      <td>41.04</td>\n      <td>2.627</td>\n      <td>1.49</td>\n    </tr>\n    <tr>\n      <th>20201007</th>\n      <td>11374.01</td>\n      <td>39.95</td>\n      <td>39.82</td>\n      <td>2.606</td>\n      <td>2.01</td>\n    </tr>\n    <tr>\n      <th>20201006</th>\n      <td>11299.50</td>\n      <td>40.67</td>\n      <td>40.52</td>\n      <td>2.520</td>\n      <td>1.86</td>\n    </tr>\n    <tr>\n      <th>20201005</th>\n      <td>11057.07</td>\n      <td>39.22</td>\n      <td>39.12</td>\n      <td>2.615</td>\n      <td>1.92</td>\n    </tr>\n    <tr>\n      <th>20201002</th>\n      <td>10933.09</td>\n      <td>37.05</td>\n      <td>36.90</td>\n      <td>2.438</td>\n      <td>1.41</td>\n    </tr>\n    <tr>\n      <th>20201001</th>\n      <td>10670.47</td>\n      <td>38.72</td>\n      <td>38.51</td>\n      <td>2.527</td>\n      <td>1.60</td>\n    </tr>\n    <tr>\n      <th>20200930</th>\n      <td>10602.66</td>\n      <td>40.22</td>\n      <td>40.05</td>\n      <td>2.527</td>\n      <td>1.66</td>\n    </tr>\n    <tr>\n      <th>20200929</th>\n      <td>10795.00</td>\n      <td>39.29</td>\n      <td>39.03</td>\n      <td>2.561</td>\n      <td>1.74</td>\n    </tr>\n    <tr>\n      <th>20200928</th>\n      <td>10671.11</td>\n      <td>40.60</td>\n      <td>40.47</td>\n      <td>2.101</td>\n      <td>1.83</td>\n    </tr>\n    <tr>\n      <th>20200925</th>\n      <td>10551.65</td>\n      <td>40.25</td>\n      <td>40.06</td>\n      <td>2.139</td>\n      <td>1.90</td>\n    </tr>\n    <tr>\n      <th>20200924</th>\n      <td>10573.12</td>\n      <td>40.31</td>\n      <td>40.11</td>\n      <td>2.248</td>\n      <td>1.93</td>\n    </tr>\n    <tr>\n      <th>20200923</th>\n      <td>10617.63</td>\n      <td>39.93</td>\n      <td>39.92</td>\n      <td>2.125</td>\n      <td>1.74</td>\n    </tr>\n    <tr>\n      <th>...</th>\n      <td>...</td>\n      <td>...</td>\n      <td>...</td>\n      <td>...</td>\n      <td>...</td>\n    </tr>\n    <tr>\n      <th>20191213</th>\n      <td>5413.64</td>\n      <td>60.07</td>\n      <td>60.11</td>\n      <td>2.296</td>\n      <td>2.28</td>\n    </tr>\n    <tr>\n      <th>20191212</th>\n      <td>5331.71</td>\n      <td>59.18</td>\n      <td>59.18</td>\n      <td>2.328</td>\n      <td>2.28</td>\n    </tr>\n    <tr>\n      <th>20191211</th>\n      <td>5037.61</td>\n      <td>58.76</td>\n      <td>58.74</td>\n      <td>2.243</td>\n      <td>2.28</td>\n    </tr>\n    <tr>\n      <th>20191210</th>\n      <td>5345.35</td>\n      <td>59.24</td>\n      <td>59.22</td>\n      <td>2.264</td>\n      <td>2.18</td>\n    </tr>\n    <tr>\n      <th>20191209</th>\n      <td>5165.25</td>\n      <td>59.02</td>\n      <td>58.99</td>\n      <td>2.232</td>\n      <td>2.17</td>\n    </tr>\n    <tr>\n      <th>20191206</th>\n      <td>5637.60</td>\n      <td>59.20</td>\n      <td>59.20</td>\n      <td>2.334</td>\n      <td>2.31</td>\n    </tr>\n    <tr>\n      <th>20191205</th>\n      <td>4857.10</td>\n      <td>58.43</td>\n      <td>58.42</td>\n      <td>2.427</td>\n      <td>2.42</td>\n    </tr>\n    <tr>\n      <th>20191204</th>\n      <td>7938.05</td>\n      <td>58.43</td>\n      <td>58.46</td>\n      <td>2.399</td>\n      <td>2.43</td>\n    </tr>\n    <tr>\n      <th>20191203</th>\n      <td>7894.68</td>\n      <td>56.10</td>\n      <td>56.15</td>\n      <td>2.441</td>\n      <td>2.42</td>\n    </tr>\n    <tr>\n      <th>20191202</th>\n      <td>7934.52</td>\n      <td>55.96</td>\n      <td>55.97</td>\n      <td>2.329</td>\n      <td>2.29</td>\n    </tr>\n    <tr>\n      <th>20191127</th>\n      <td>8037.76</td>\n      <td>58.11</td>\n      <td>58.12</td>\n      <td>2.501</td>\n      <td>2.46</td>\n    </tr>\n    <tr>\n      <th>20191126</th>\n      <td>8901.37</td>\n      <td>58.41</td>\n      <td>58.25</td>\n      <td>2.470</td>\n      <td>2.51</td>\n    </tr>\n    <tr>\n      <th>20191125</th>\n      <td>9158.51</td>\n      <td>58.01</td>\n      <td>57.79</td>\n      <td>2.531</td>\n      <td>2.51</td>\n    </tr>\n    <tr>\n      <th>20191122</th>\n      <td>9070.17</td>\n      <td>57.77</td>\n      <td>57.68</td>\n      <td>2.665</td>\n      <td>2.62</td>\n    </tr>\n    <tr>\n      <th>20191121</th>\n      <td>8760.66</td>\n      <td>58.58</td>\n      <td>58.36</td>\n      <td>2.567</td>\n      <td>2.53</td>\n    </tr>\n    <tr>\n      <th>20191120</th>\n      <td>8757.84</td>\n      <td>57.11</td>\n      <td>56.71</td>\n      <td>2.559</td>\n      <td>2.56</td>\n    </tr>\n    <tr>\n      <th>20191119</th>\n      <td>8915.00</td>\n      <td>55.21</td>\n      <td>54.93</td>\n      <td>2.510</td>\n      <td>2.53</td>\n    </tr>\n    <tr>\n      <th>20191118</th>\n      <td>8522.31</td>\n      <td>57.05</td>\n      <td>56.82</td>\n      <td>2.566</td>\n      <td>2.64</td>\n    </tr>\n    <tr>\n      <th>20191115</th>\n      <td>8525.07</td>\n      <td>57.72</td>\n      <td>57.54</td>\n      <td>2.688</td>\n      <td>2.70</td>\n    </tr>\n    <tr>\n      <th>20191114</th>\n      <td>8708.89</td>\n      <td>56.77</td>\n      <td>56.57</td>\n      <td>2.647</td>\n      <td>2.68</td>\n    </tr>\n    <tr>\n      <th>20191113</th>\n      <td>8812.49</td>\n      <td>57.12</td>\n      <td>56.88</td>\n      <td>2.600</td>\n      <td>2.66</td>\n    </tr>\n    <tr>\n      <th>20191112</th>\n      <td>8778.30</td>\n      <td>56.80</td>\n      <td>56.67</td>\n      <td>2.621</td>\n      <td>2.72</td>\n    </tr>\n    <tr>\n      <th>20191111</th>\n      <td>9305.00</td>\n      <td>56.86</td>\n      <td>56.61</td>\n      <td>2.637</td>\n      <td>2.87</td>\n    </tr>\n    <tr>\n      <th>20191108</th>\n      <td>9660.00</td>\n      <td>57.24</td>\n      <td>57.02</td>\n      <td>2.789</td>\n      <td>2.87</td>\n    </tr>\n    <tr>\n      <th>20191107</th>\n      <td>9965.01</td>\n      <td>57.15</td>\n      <td>56.91</td>\n      <td>2.772</td>\n      <td>2.84</td>\n    </tr>\n    <tr>\n      <th>20191106</th>\n      <td>9668.23</td>\n      <td>56.35</td>\n      <td>56.15</td>\n      <td>2.828</td>\n      <td>2.82</td>\n    </tr>\n    <tr>\n      <th>20191105</th>\n      <td>9695.66</td>\n      <td>57.23</td>\n      <td>57.04</td>\n      <td>2.862</td>\n      <td>2.77</td>\n    </tr>\n    <tr>\n      <th>20191104</th>\n      <td>9610.05</td>\n      <td>56.54</td>\n      <td>56.33</td>\n      <td>2.821</td>\n      <td>2.77</td>\n    </tr>\n    <tr>\n      <th>20191101</th>\n      <td>9600.08</td>\n      <td>56.20</td>\n      <td>56.04</td>\n      <td>2.714</td>\n      <td>2.54</td>\n    </tr>\n    <tr>\n      <th>20191031</th>\n      <td>10188.04</td>\n      <td>54.18</td>\n      <td>54.02</td>\n      <td>2.633</td>\n      <td>2.73</td>\n    </tr>\n  </tbody>\n</table>\n<p>256 rows × 5 columns</p>\n</div>"
     },
     "metadata": {},
     "execution_count": 141
    }
   ],
   "source": [
    "energy_btc_df"
   ]
  },
  {
   "cell_type": "code",
   "execution_count": null,
   "metadata": {},
   "outputs": [],
   "source": []
  }
 ]
}