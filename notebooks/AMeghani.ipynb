{
 "metadata": {
  "language_info": {
   "codemirror_mode": {
    "name": "ipython",
    "version": 3
   },
   "file_extension": ".py",
   "mimetype": "text/x-python",
   "name": "python",
   "nbconvert_exporter": "python",
   "pygments_lexer": "ipython3",
   "version": "3.7.7-final"
  },
  "orig_nbformat": 2,
  "kernelspec": {
   "name": "Python 3.7.7 64-bit ('pyvizenv': conda)",
   "display_name": "Python 3.7.7 64-bit ('pyvizenv': conda)",
   "metadata": {
    "interpreter": {
     "hash": "96d780200ae209b11bb2d9fe2222e3f46bc03ef2f89d8888f4294ebb870f23d8"
    }
   }
  }
 },
 "nbformat": 4,
 "nbformat_minor": 2,
 "cells": [
  {
   "source": [
    "## Forex data gathering and cleaning"
   ],
   "cell_type": "markdown",
   "metadata": {}
  },
  {
   "cell_type": "code",
   "execution_count": null,
   "metadata": {},
   "outputs": [],
   "source": [
    "# Imports\n",
    "import pandas as pd\n",
    "from pathlib import Path"
   ]
  },
  {
   "cell_type": "code",
   "execution_count": null,
   "metadata": {},
   "outputs": [],
   "source": [
    "# Set file path\n",
    "file_path = Path(\"../data/forexdata_raw.csv\")\n",
    "\n",
    "# Create dataframe\n",
    "forex_df = pd.read_csv(file_path)"
   ]
  },
  {
   "cell_type": "code",
   "execution_count": null,
   "metadata": {},
   "outputs": [],
   "source": [
    "# Get 1 years worth of data (252 trading days)\n",
    "forex_one_year = forex_df.loc[:251]"
   ]
  },
  {
   "cell_type": "code",
   "execution_count": null,
   "metadata": {},
   "outputs": [],
   "source": [
    "# Write to CSV\n",
    "forex_one_year.to_csv(f\"..//data/forex_one_year_raw.csv\", index = False)"
   ]
  },
  {
   "cell_type": "code",
   "execution_count": 12,
   "metadata": {},
   "outputs": [],
   "source": [
    "# Slice the data into seperate dataframes for USD, JPY, GBP, AUD, RUB, CNY, KRW, HKD, INR\n",
    "forex_euro_usd = forex_one_year.loc[:,[\"Date\", \"USD\"]]\n",
    "forex_euro_jpy = forex_one_year.loc[:,[\"Date\", \"JPY\"]]\n",
    "forex_euro_gbp = forex_one_year.loc[:,[\"Date\", \"GBP\"]]\n",
    "forex_euro_aud = forex_one_year.loc[:,[\"Date\", \"AUD\"]]\n",
    "forex_euro_rub = forex_one_year.loc[:,[\"Date\", \"RUB\"]]\n",
    "forex_euro_cny = forex_one_year.loc[:,[\"Date\", \"CNY\"]]\n",
    "forex_euro_krw = forex_one_year.loc[:,[\"Date\", \"KRW\"]]\n",
    "forex_euro_hkd = forex_one_year.loc[:,[\"Date\", \"HKD\"]]\n",
    "forex_euro_inr = forex_one_year.loc[:,[\"Date\", \"INR\"]]"
   ]
  },
  {
   "cell_type": "code",
   "execution_count": 13,
   "metadata": {},
   "outputs": [],
   "source": [
    "# Write to CSV\n",
    "forex_euro_usd.to_csv(f\"..//data/forex_euro_usd.csv\", index = False)\n",
    "forex_euro_jpy.to_csv(f\"..//data/forex_euro_jpy.csv\", index = False)\n",
    "forex_euro_gbp.to_csv(f\"..//data/forex_euro_gbp.csv\", index = False)\n",
    "forex_euro_aud.to_csv(f\"..//data/forex_euro_aud.csv\", index = False)\n",
    "forex_euro_rub.to_csv(f\"..//data/forex_euro_rub.csv\", index = False)\n",
    "forex_euro_cny.to_csv(f\"..//data/forex_euro_cny.csv\", index = False)\n",
    "forex_euro_krw.to_csv(f\"..//data/forex_euro_krw.csv\", index = False)\n",
    "forex_euro_hkd.to_csv(f\"..//data/forex_euro_hkd.csv\", index = False)\n",
    "forex_euro_inr.to_csv(f\"..//data/forex_euro_inr.csv\", index = False)"
   ]
  },
  {
   "cell_type": "code",
   "execution_count": 15,
   "metadata": {},
   "outputs": [],
   "source": [
    "forex_one_year_clean = pd.concat([forex_euro_usd, forex_euro_jpy, forex_euro_gbp, forex_euro_aud, forex_euro_rub, forex_euro_cny, forex_euro_krw, forex_euro_hkd, forex_euro_inr], axis = \"columns\", join = \"inner\")"
   ]
  },
  {
   "cell_type": "code",
   "execution_count": 22,
   "metadata": {},
   "outputs": [],
   "source": [
    "forex_one_year_no_dates = forex_one_year_clean.drop(\"Date\", axis = 1)"
   ]
  },
  {
   "cell_type": "code",
   "execution_count": 23,
   "metadata": {},
   "outputs": [
    {
     "output_type": "execute_result",
     "data": {
      "text/plain": [
       "      USD     JPY      GBP     AUD      RUB     CNY      KRW     HKD      INR\n",
       "0  1.1698  122.36  0.90208  1.6563  92.4606  7.8158  1324.20  9.0706  87.1115\n",
       "1  1.1704  122.09  0.90430  1.6673  93.0481  7.8531  1326.92  9.0735  87.0865\n",
       "2  1.1727  122.36  0.90662  1.6603  92.3025  7.8845  1332.51  9.0885  86.8040\n",
       "3  1.1832  123.74  0.90718  1.6585  90.5710  7.9345  1332.89  9.1699  87.1635\n",
       "4  1.1819  124.14  0.90755  1.6592  90.2935  7.9342  1338.31  9.1598  87.5485"
      ],
      "text/html": "<div>\n<style scoped>\n    .dataframe tbody tr th:only-of-type {\n        vertical-align: middle;\n    }\n\n    .dataframe tbody tr th {\n        vertical-align: top;\n    }\n\n    .dataframe thead th {\n        text-align: right;\n    }\n</style>\n<table border=\"1\" class=\"dataframe\">\n  <thead>\n    <tr style=\"text-align: right;\">\n      <th></th>\n      <th>USD</th>\n      <th>JPY</th>\n      <th>GBP</th>\n      <th>AUD</th>\n      <th>RUB</th>\n      <th>CNY</th>\n      <th>KRW</th>\n      <th>HKD</th>\n      <th>INR</th>\n    </tr>\n  </thead>\n  <tbody>\n    <tr>\n      <th>0</th>\n      <td>1.1698</td>\n      <td>122.36</td>\n      <td>0.90208</td>\n      <td>1.6563</td>\n      <td>92.4606</td>\n      <td>7.8158</td>\n      <td>1324.20</td>\n      <td>9.0706</td>\n      <td>87.1115</td>\n    </tr>\n    <tr>\n      <th>1</th>\n      <td>1.1704</td>\n      <td>122.09</td>\n      <td>0.90430</td>\n      <td>1.6673</td>\n      <td>93.0481</td>\n      <td>7.8531</td>\n      <td>1326.92</td>\n      <td>9.0735</td>\n      <td>87.0865</td>\n    </tr>\n    <tr>\n      <th>2</th>\n      <td>1.1727</td>\n      <td>122.36</td>\n      <td>0.90662</td>\n      <td>1.6603</td>\n      <td>92.3025</td>\n      <td>7.8845</td>\n      <td>1332.51</td>\n      <td>9.0885</td>\n      <td>86.8040</td>\n    </tr>\n    <tr>\n      <th>3</th>\n      <td>1.1832</td>\n      <td>123.74</td>\n      <td>0.90718</td>\n      <td>1.6585</td>\n      <td>90.5710</td>\n      <td>7.9345</td>\n      <td>1332.89</td>\n      <td>9.1699</td>\n      <td>87.1635</td>\n    </tr>\n    <tr>\n      <th>4</th>\n      <td>1.1819</td>\n      <td>124.14</td>\n      <td>0.90755</td>\n      <td>1.6592</td>\n      <td>90.2935</td>\n      <td>7.9342</td>\n      <td>1338.31</td>\n      <td>9.1598</td>\n      <td>87.5485</td>\n    </tr>\n  </tbody>\n</table>\n</div>"
     },
     "metadata": {},
     "execution_count": 23
    }
   ],
   "source": [
    "forex_one_year_no_dates.head()"
   ]
  },
  {
   "cell_type": "code",
   "execution_count": 24,
   "metadata": {},
   "outputs": [],
   "source": [
    "forex_one_year_clean_dates = pd.concat([forex_one_year_no_dates, forex_euro_usd[\"Date\"]], axis = \"columns\", join = \"inner\")"
   ]
  },
  {
   "cell_type": "code",
   "execution_count": 26,
   "metadata": {},
   "outputs": [],
   "source": [
    "forex_one_year_clean_dates = forex_one_year_clean_dates[[\"Date\", \"USD\", \"JPY\", \"GBP\", \"AUD\", \"RUB\", \"CNY\", \"KRW\", \"HKD\", \"INR\"]]"
   ]
  },
  {
   "cell_type": "code",
   "execution_count": 27,
   "metadata": {},
   "outputs": [
    {
     "output_type": "execute_result",
     "data": {
      "text/plain": [
       "         Date     USD     JPY      GBP     AUD      RUB     CNY      KRW  \\\n",
       "0  2020-10-30  1.1698  122.36  0.90208  1.6563  92.4606  7.8158  1324.20   \n",
       "1  2020-10-29  1.1704  122.09  0.90430  1.6673  93.0481  7.8531  1326.92   \n",
       "2  2020-10-28  1.1727  122.36  0.90662  1.6603  92.3025  7.8845  1332.51   \n",
       "3  2020-10-27  1.1832  123.74  0.90718  1.6585  90.5710  7.9345  1332.89   \n",
       "4  2020-10-26  1.1819  124.14  0.90755  1.6592  90.2935  7.9342  1338.31   \n",
       "\n",
       "      HKD      INR  \n",
       "0  9.0706  87.1115  \n",
       "1  9.0735  87.0865  \n",
       "2  9.0885  86.8040  \n",
       "3  9.1699  87.1635  \n",
       "4  9.1598  87.5485  "
      ],
      "text/html": "<div>\n<style scoped>\n    .dataframe tbody tr th:only-of-type {\n        vertical-align: middle;\n    }\n\n    .dataframe tbody tr th {\n        vertical-align: top;\n    }\n\n    .dataframe thead th {\n        text-align: right;\n    }\n</style>\n<table border=\"1\" class=\"dataframe\">\n  <thead>\n    <tr style=\"text-align: right;\">\n      <th></th>\n      <th>Date</th>\n      <th>USD</th>\n      <th>JPY</th>\n      <th>GBP</th>\n      <th>AUD</th>\n      <th>RUB</th>\n      <th>CNY</th>\n      <th>KRW</th>\n      <th>HKD</th>\n      <th>INR</th>\n    </tr>\n  </thead>\n  <tbody>\n    <tr>\n      <th>0</th>\n      <td>2020-10-30</td>\n      <td>1.1698</td>\n      <td>122.36</td>\n      <td>0.90208</td>\n      <td>1.6563</td>\n      <td>92.4606</td>\n      <td>7.8158</td>\n      <td>1324.20</td>\n      <td>9.0706</td>\n      <td>87.1115</td>\n    </tr>\n    <tr>\n      <th>1</th>\n      <td>2020-10-29</td>\n      <td>1.1704</td>\n      <td>122.09</td>\n      <td>0.90430</td>\n      <td>1.6673</td>\n      <td>93.0481</td>\n      <td>7.8531</td>\n      <td>1326.92</td>\n      <td>9.0735</td>\n      <td>87.0865</td>\n    </tr>\n    <tr>\n      <th>2</th>\n      <td>2020-10-28</td>\n      <td>1.1727</td>\n      <td>122.36</td>\n      <td>0.90662</td>\n      <td>1.6603</td>\n      <td>92.3025</td>\n      <td>7.8845</td>\n      <td>1332.51</td>\n      <td>9.0885</td>\n      <td>86.8040</td>\n    </tr>\n    <tr>\n      <th>3</th>\n      <td>2020-10-27</td>\n      <td>1.1832</td>\n      <td>123.74</td>\n      <td>0.90718</td>\n      <td>1.6585</td>\n      <td>90.5710</td>\n      <td>7.9345</td>\n      <td>1332.89</td>\n      <td>9.1699</td>\n      <td>87.1635</td>\n    </tr>\n    <tr>\n      <th>4</th>\n      <td>2020-10-26</td>\n      <td>1.1819</td>\n      <td>124.14</td>\n      <td>0.90755</td>\n      <td>1.6592</td>\n      <td>90.2935</td>\n      <td>7.9342</td>\n      <td>1338.31</td>\n      <td>9.1598</td>\n      <td>87.5485</td>\n    </tr>\n  </tbody>\n</table>\n</div>"
     },
     "metadata": {},
     "execution_count": 27
    }
   ],
   "source": []
  },
  {
   "cell_type": "code",
   "execution_count": 28,
   "metadata": {},
   "outputs": [],
   "source": [
    "# Write to CSV\n",
    "forex_one_year_clean_dates.to_csv(f\"..//data/forex_one_year_clean.csv\", index = False)"
   ]
  },
  {
   "cell_type": "code",
   "execution_count": null,
   "metadata": {},
   "outputs": [],
   "source": []
  }
 ]
}