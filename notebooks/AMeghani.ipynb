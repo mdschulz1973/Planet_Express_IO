{
 "metadata": {
  "language_info": {
   "codemirror_mode": {
    "name": "ipython",
    "version": 3
   },
   "file_extension": ".py",
   "mimetype": "text/x-python",
   "name": "python",
   "nbconvert_exporter": "python",
   "pygments_lexer": "ipython3",
   "version": "3.7.7-final"
  },
  "orig_nbformat": 2,
  "kernelspec": {
   "name": "Python 3.7.7 64-bit ('pyvizenv': conda)",
   "display_name": "Python 3.7.7 64-bit ('pyvizenv': conda)",
   "metadata": {
    "interpreter": {
     "hash": "96d780200ae209b11bb2d9fe2222e3f46bc03ef2f89d8888f4294ebb870f23d8"
    }
   }
  }
 },
 "nbformat": 4,
 "nbformat_minor": 2,
 "cells": [
  {
   "source": [
    "## Forex data gathering and cleaning"
   ],
   "cell_type": "markdown",
   "metadata": {}
  },
  {
   "cell_type": "code",
   "execution_count": null,
   "metadata": {},
   "outputs": [],
   "source": [
    "# Imports\n",
    "import pandas as pd\n",
    "from pathlib import Path"
   ]
  },
  {
   "cell_type": "code",
   "execution_count": null,
   "metadata": {},
   "outputs": [],
   "source": [
    "# Set file path\n",
    "file_path = Path(\"../data/forexdata_raw.csv\")\n",
    "\n",
    "# Create dataframe\n",
    "forex_df = pd.read_csv(file_path)"
   ]
  },
  {
   "cell_type": "code",
   "execution_count": null,
   "metadata": {},
   "outputs": [],
   "source": [
    "# Get 1 years worth of data (252 trading days)\n",
    "forex_one_year = forex_df.loc[:251]"
   ]
  },
  {
   "cell_type": "code",
   "execution_count": null,
   "metadata": {},
   "outputs": [],
   "source": [
    "# Write to CSV\n",
    "forex_one_year.to_csv(f\"..//data/forex_one_year_raw.csv\", index = False)"
   ]
  },
  {
   "cell_type": "code",
   "execution_count": 12,
   "metadata": {},
   "outputs": [],
   "source": [
    "# Slice the data into seperate dataframes for USD, JPY, GBP, AUD, RUB, CNY, KRW, HKD, INR\n",
    "forex_euro_usd = forex_one_year.loc[:,[\"Date\", \"USD\"]]\n",
    "forex_euro_jpy = forex_one_year.loc[:,[\"Date\", \"JPY\"]]\n",
    "forex_euro_gbp = forex_one_year.loc[:,[\"Date\", \"GBP\"]]\n",
    "forex_euro_aud = forex_one_year.loc[:,[\"Date\", \"AUD\"]]\n",
    "forex_euro_rub = forex_one_year.loc[:,[\"Date\", \"RUB\"]]\n",
    "forex_euro_cny = forex_one_year.loc[:,[\"Date\", \"CNY\"]]\n",
    "forex_euro_krw = forex_one_year.loc[:,[\"Date\", \"KRW\"]]\n",
    "forex_euro_hkd = forex_one_year.loc[:,[\"Date\", \"HKD\"]]\n",
    "forex_euro_inr = forex_one_year.loc[:,[\"Date\", \"INR\"]]"
   ]
  },
  {
   "cell_type": "code",
   "execution_count": 13,
   "metadata": {},
   "outputs": [],
   "source": [
    "# Write to CSV\n",
    "forex_euro_usd.to_csv(f\"..//data/forex_euro_usd.csv\", index = False)\n",
    "forex_euro_jpy.to_csv(f\"..//data/forex_euro_jpy.csv\", index = False)\n",
    "forex_euro_gbp.to_csv(f\"..//data/forex_euro_gbp.csv\", index = False)\n",
    "forex_euro_aud.to_csv(f\"..//data/forex_euro_aud.csv\", index = False)\n",
    "forex_euro_rub.to_csv(f\"..//data/forex_euro_rub.csv\", index = False)\n",
    "forex_euro_cny.to_csv(f\"..//data/forex_euro_cny.csv\", index = False)\n",
    "forex_euro_krw.to_csv(f\"..//data/forex_euro_krw.csv\", index = False)\n",
    "forex_euro_hkd.to_csv(f\"..//data/forex_euro_hkd.csv\", index = False)\n",
    "forex_euro_inr.to_csv(f\"..//data/forex_euro_inr.csv\", index = False)"
   ]
  },
  {
   "cell_type": "code",
   "execution_count": null,
   "metadata": {},
   "outputs": [],
   "source": [
    "#forex_one_year_clean = pd.concat(forex_euro_usd, forex_euro_jpy, forex_euro_gbp, forex_euro_aud, forex_euro_rub, )"
   ]
  }
 ]
}