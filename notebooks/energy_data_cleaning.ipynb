{
 "metadata": {
  "language_info": {
   "codemirror_mode": {
    "name": "ipython",
    "version": 3
   },
   "file_extension": ".py",
   "mimetype": "text/x-python",
   "name": "python",
   "nbconvert_exporter": "python",
   "pygments_lexer": "ipython3",
   "version": "3.7.7-final"
  },
  "orig_nbformat": 2,
  "kernelspec": {
   "name": "Python 3.7.7 64-bit ('pyvizenv': conda)",
   "display_name": "Python 3.7.7 64-bit ('pyvizenv': conda)",
   "metadata": {
    "interpreter": {
     "hash": "853c8529c45b54e3859f720efefe4fcd4632a07102e5a2ccce1bdf7f404e408c"
    }
   }
  }
 },
 "nbformat": 4,
 "nbformat_minor": 2,
 "cells": [
  {
   "cell_type": "code",
   "execution_count": 218,
   "metadata": {},
   "outputs": [],
   "source": [
    "import pandas as pd \n",
    "from pathlib import Path"
   ]
  },
  {
   "cell_type": "code",
   "execution_count": 219,
   "metadata": {},
   "outputs": [],
   "source": [
    "CLFut1_path = Path(\"../data/energy_data/raw_data/CLFut1_2019-2020.csv\")\n",
    "CLSpot_path = Path(\"../data/energy_data/raw_data/CLSpot_2019-2020.csv\")\n",
    "NGFut1_path = Path(\"../data/energy_data/raw_data/NGFut1_2019-2020.csv\")\n",
    "NGSpot_path = Path(\"../data/energy_data/raw_data/NGSpot_2019-2020.csv\")"
   ]
  },
  {
   "cell_type": "code",
   "execution_count": 220,
   "metadata": {},
   "outputs": [],
   "source": [
    "CLFut1_df = pd.read_csv(CLFut1_path)\n",
    "CLSpot_df = pd.read_csv(CLSpot_path)\n",
    "NGFut1_df = pd.read_csv(NGFut1_path)\n",
    "NGSpot_df = pd.read_csv(NGSpot_path)"
   ]
  },
  {
   "cell_type": "code",
   "execution_count": 221,
   "metadata": {},
   "outputs": [],
   "source": [
    "CLFut1_df.drop(columns=['Index', 'Series Name', 'Frequency', 'Units'], inplace=True)\n",
    "CLSpot_df.drop(columns=['Index', 'Series Name', 'Frequency', 'Units'], inplace=True)\n",
    "NGFut1_df.drop(columns=['Index', 'Series Name', 'Frequency', 'Units'], inplace=True)\n",
    "NGSpot_df.drop(columns=['Index', 'Series Name', 'Frequency', 'Units'], inplace=True)\n"
   ]
  },
  {
   "cell_type": "code",
   "execution_count": 222,
   "metadata": {},
   "outputs": [],
   "source": [
    "CLFut1_df.set_index(CLFut1_df[\"Period\"], inplace=True)\n",
    "CLSpot_df.set_index(CLSpot_df[\"Period\"], inplace=True)\n",
    "NGFut1_df.set_index(NGFut1_df[\"Period\"], inplace=True)\n",
    "NGSpot_df.set_index(NGSpot_df[\"Period\"], inplace=True)"
   ]
  },
  {
   "cell_type": "code",
   "execution_count": 223,
   "metadata": {},
   "outputs": [],
   "source": [
    "CLFut1_df.rename(columns={'Period': 'Date', 'Value': 'CL Fut'}, inplace=True)\n",
    "CLSpot_df.rename(columns={'Period': 'Date', 'Value': 'CL Spot'}, inplace=True)\n",
    "NGFut1_df.rename(columns={'Period': 'Date', 'Value': 'NG Fut'}, inplace=True)\n",
    "NGSpot_df.rename(columns={'Period': 'Date', 'Value': 'NG Spot'}, inplace=True)"
   ]
  },
  {
   "cell_type": "code",
   "execution_count": 224,
   "metadata": {},
   "outputs": [],
   "source": [
    "concat_data = pd.concat([CLFut1_df, CLSpot_df, NGFut1_df, NGSpot_df], axis=\"columns\", join=\"inner\")"
   ]
  },
  {
   "cell_type": "code",
   "execution_count": 225,
   "metadata": {},
   "outputs": [],
   "source": [
    "concat_data.drop(columns='Date', inplace=True)"
   ]
  },
  {
   "cell_type": "code",
   "execution_count": 226,
   "metadata": {},
   "outputs": [],
   "source": [
    "concat_data.to_csv(\"../data/energy_data/clean_data/clean_energy_data.csv\")"
   ]
  }
 ]
}