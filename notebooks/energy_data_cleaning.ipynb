{
 "metadata": {
  "language_info": {
   "codemirror_mode": {
    "name": "ipython",
    "version": 3
   },
   "file_extension": ".py",
   "mimetype": "text/x-python",
   "name": "python",
   "nbconvert_exporter": "python",
   "pygments_lexer": "ipython3",
   "version": "3.7.7-final"
  },
  "orig_nbformat": 2,
  "kernelspec": {
   "name": "Python 3.7.7 64-bit ('pyvizenv': conda)",
   "display_name": "Python 3.7.7 64-bit ('pyvizenv': conda)",
   "metadata": {
    "interpreter": {
     "hash": "853c8529c45b54e3859f720efefe4fcd4632a07102e5a2ccce1bdf7f404e408c"
    }
   }
  }
 },
 "nbformat": 4,
 "nbformat_minor": 2,
 "cells": [
  {
   "cell_type": "code",
   "execution_count": 50,
   "metadata": {},
   "outputs": [],
   "source": [
    "import pandas as pd \n",
    "from pathlib import Path"
   ]
  },
  {
   "cell_type": "code",
   "execution_count": 51,
   "metadata": {},
   "outputs": [],
   "source": [
    "file_path = Path(\"../data/energy_data/raw_data/NGFut1_2015-2020.csv\")"
   ]
  },
  {
   "cell_type": "code",
   "execution_count": 52,
   "metadata": {},
   "outputs": [
    {
     "output_type": "execute_result",
     "data": {
      "text/plain": [
       "   Index                            Series Name    Period Frequency  Value  \\\n",
       "0      0  Natural Gas Futures Contract 1, Daily  20201027         D  3.019   \n",
       "1      1  Natural Gas Futures Contract 1, Daily  20201026         D  3.024   \n",
       "2      2  Natural Gas Futures Contract 1, Daily  20201023         D  2.971   \n",
       "3      3  Natural Gas Futures Contract 1, Daily  20201022         D  3.007   \n",
       "4      4  Natural Gas Futures Contract 1, Daily  20201021         D  3.023   \n",
       "\n",
       "                     Units  \n",
       "0  Dollars per Million Btu  \n",
       "1  Dollars per Million Btu  \n",
       "2  Dollars per Million Btu  \n",
       "3  Dollars per Million Btu  \n",
       "4  Dollars per Million Btu  "
      ],
      "text/html": "<div>\n<style scoped>\n    .dataframe tbody tr th:only-of-type {\n        vertical-align: middle;\n    }\n\n    .dataframe tbody tr th {\n        vertical-align: top;\n    }\n\n    .dataframe thead th {\n        text-align: right;\n    }\n</style>\n<table border=\"1\" class=\"dataframe\">\n  <thead>\n    <tr style=\"text-align: right;\">\n      <th></th>\n      <th>Index</th>\n      <th>Series Name</th>\n      <th>Period</th>\n      <th>Frequency</th>\n      <th>Value</th>\n      <th>Units</th>\n    </tr>\n  </thead>\n  <tbody>\n    <tr>\n      <th>0</th>\n      <td>0</td>\n      <td>Natural Gas Futures Contract 1, Daily</td>\n      <td>20201027</td>\n      <td>D</td>\n      <td>3.019</td>\n      <td>Dollars per Million Btu</td>\n    </tr>\n    <tr>\n      <th>1</th>\n      <td>1</td>\n      <td>Natural Gas Futures Contract 1, Daily</td>\n      <td>20201026</td>\n      <td>D</td>\n      <td>3.024</td>\n      <td>Dollars per Million Btu</td>\n    </tr>\n    <tr>\n      <th>2</th>\n      <td>2</td>\n      <td>Natural Gas Futures Contract 1, Daily</td>\n      <td>20201023</td>\n      <td>D</td>\n      <td>2.971</td>\n      <td>Dollars per Million Btu</td>\n    </tr>\n    <tr>\n      <th>3</th>\n      <td>3</td>\n      <td>Natural Gas Futures Contract 1, Daily</td>\n      <td>20201022</td>\n      <td>D</td>\n      <td>3.007</td>\n      <td>Dollars per Million Btu</td>\n    </tr>\n    <tr>\n      <th>4</th>\n      <td>4</td>\n      <td>Natural Gas Futures Contract 1, Daily</td>\n      <td>20201021</td>\n      <td>D</td>\n      <td>3.023</td>\n      <td>Dollars per Million Btu</td>\n    </tr>\n  </tbody>\n</table>\n</div>"
     },
     "metadata": {},
     "execution_count": 52
    }
   ],
   "source": [
    "NGFut_df = pd.read_csv(file_path)\n",
    "NGFut_df.head()"
   ]
  },
  {
   "cell_type": "code",
   "execution_count": 53,
   "metadata": {},
   "outputs": [
    {
     "output_type": "execute_result",
     "data": {
      "text/plain": [
       "            Period  Value\n",
       "Period                   \n",
       "20201027  20201027  3.019\n",
       "20201026  20201026  3.024\n",
       "20201023  20201023  2.971\n",
       "20201022  20201022  3.007\n",
       "20201021  20201021  3.023"
      ],
      "text/html": "<div>\n<style scoped>\n    .dataframe tbody tr th:only-of-type {\n        vertical-align: middle;\n    }\n\n    .dataframe tbody tr th {\n        vertical-align: top;\n    }\n\n    .dataframe thead th {\n        text-align: right;\n    }\n</style>\n<table border=\"1\" class=\"dataframe\">\n  <thead>\n    <tr style=\"text-align: right;\">\n      <th></th>\n      <th>Period</th>\n      <th>Value</th>\n    </tr>\n    <tr>\n      <th>Period</th>\n      <th></th>\n      <th></th>\n    </tr>\n  </thead>\n  <tbody>\n    <tr>\n      <th>20201027</th>\n      <td>20201027</td>\n      <td>3.019</td>\n    </tr>\n    <tr>\n      <th>20201026</th>\n      <td>20201026</td>\n      <td>3.024</td>\n    </tr>\n    <tr>\n      <th>20201023</th>\n      <td>20201023</td>\n      <td>2.971</td>\n    </tr>\n    <tr>\n      <th>20201022</th>\n      <td>20201022</td>\n      <td>3.007</td>\n    </tr>\n    <tr>\n      <th>20201021</th>\n      <td>20201021</td>\n      <td>3.023</td>\n    </tr>\n  </tbody>\n</table>\n</div>"
     },
     "metadata": {},
     "execution_count": 53
    }
   ],
   "source": [
    "NGFut_df = NGFut_df.drop(columns=[\"Index\", \"Series Name\", \"Frequency\", \"Units\"])\n",
    "NGFut_df.set_index(NGFut_df[\"Period\"], inplace=True)\n",
    "NGFut_df.head()\n"
   ]
  },
  {
   "cell_type": "code",
   "execution_count": null,
   "metadata": {},
   "outputs": [],
   "source": []
  }
 ]
}