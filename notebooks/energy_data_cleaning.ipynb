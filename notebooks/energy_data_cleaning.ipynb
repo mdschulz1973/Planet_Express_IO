{
 "metadata": {
  "language_info": {
   "codemirror_mode": {
    "name": "ipython",
    "version": 3
   },
   "file_extension": ".py",
   "mimetype": "text/x-python",
   "name": "python",
   "nbconvert_exporter": "python",
   "pygments_lexer": "ipython3",
   "version": "3.7.7-final"
  },
  "orig_nbformat": 2,
  "kernelspec": {
   "name": "Python 3.7.7 64-bit ('pyvizenv': conda)",
   "display_name": "Python 3.7.7 64-bit ('pyvizenv': conda)",
   "metadata": {
    "interpreter": {
     "hash": "853c8529c45b54e3859f720efefe4fcd4632a07102e5a2ccce1bdf7f404e408c"
    }
   }
  }
 },
 "nbformat": 4,
 "nbformat_minor": 2,
 "cells": [
  {
   "cell_type": "code",
   "execution_count": 87,
   "metadata": {},
   "outputs": [],
   "source": [
    "import pandas as pd \n",
    "from pathlib import Path"
   ]
  },
  {
   "cell_type": "code",
   "execution_count": 88,
   "metadata": {},
   "outputs": [],
   "source": [
    "file_path = Path(\"../data/energy_data/raw_data/NGFut1_2015-2020.csv\")"
   ]
  },
  {
   "cell_type": "code",
   "execution_count": 89,
   "metadata": {},
   "outputs": [
    {
     "output_type": "execute_result",
     "data": {
      "text/plain": [
       "   Index                            Series Name    Period Frequency  Value  \\\n",
       "0      0  Natural Gas Futures Contract 1, Daily  20201027         D  3.019   \n",
       "1      1  Natural Gas Futures Contract 1, Daily  20201026         D  3.024   \n",
       "2      2  Natural Gas Futures Contract 1, Daily  20201023         D  2.971   \n",
       "3      3  Natural Gas Futures Contract 1, Daily  20201022         D  3.007   \n",
       "4      4  Natural Gas Futures Contract 1, Daily  20201021         D  3.023   \n",
       "\n",
       "                     Units  \n",
       "0  Dollars per Million Btu  \n",
       "1  Dollars per Million Btu  \n",
       "2  Dollars per Million Btu  \n",
       "3  Dollars per Million Btu  \n",
       "4  Dollars per Million Btu  "
      ],
      "text/html": "<div>\n<style scoped>\n    .dataframe tbody tr th:only-of-type {\n        vertical-align: middle;\n    }\n\n    .dataframe tbody tr th {\n        vertical-align: top;\n    }\n\n    .dataframe thead th {\n        text-align: right;\n    }\n</style>\n<table border=\"1\" class=\"dataframe\">\n  <thead>\n    <tr style=\"text-align: right;\">\n      <th></th>\n      <th>Index</th>\n      <th>Series Name</th>\n      <th>Period</th>\n      <th>Frequency</th>\n      <th>Value</th>\n      <th>Units</th>\n    </tr>\n  </thead>\n  <tbody>\n    <tr>\n      <th>0</th>\n      <td>0</td>\n      <td>Natural Gas Futures Contract 1, Daily</td>\n      <td>20201027</td>\n      <td>D</td>\n      <td>3.019</td>\n      <td>Dollars per Million Btu</td>\n    </tr>\n    <tr>\n      <th>1</th>\n      <td>1</td>\n      <td>Natural Gas Futures Contract 1, Daily</td>\n      <td>20201026</td>\n      <td>D</td>\n      <td>3.024</td>\n      <td>Dollars per Million Btu</td>\n    </tr>\n    <tr>\n      <th>2</th>\n      <td>2</td>\n      <td>Natural Gas Futures Contract 1, Daily</td>\n      <td>20201023</td>\n      <td>D</td>\n      <td>2.971</td>\n      <td>Dollars per Million Btu</td>\n    </tr>\n    <tr>\n      <th>3</th>\n      <td>3</td>\n      <td>Natural Gas Futures Contract 1, Daily</td>\n      <td>20201022</td>\n      <td>D</td>\n      <td>3.007</td>\n      <td>Dollars per Million Btu</td>\n    </tr>\n    <tr>\n      <th>4</th>\n      <td>4</td>\n      <td>Natural Gas Futures Contract 1, Daily</td>\n      <td>20201021</td>\n      <td>D</td>\n      <td>3.023</td>\n      <td>Dollars per Million Btu</td>\n    </tr>\n  </tbody>\n</table>\n</div>"
     },
     "metadata": {},
     "execution_count": 89
    }
   ],
   "source": [
    "NGFut_df = pd.read_csv(file_path)\n",
    "NGFut_df.head()"
   ]
  },
  {
   "cell_type": "code",
   "execution_count": 90,
   "metadata": {},
   "outputs": [
    {
     "output_type": "execute_result",
     "data": {
      "text/plain": [
       "            Period  Value\n",
       "Period                   \n",
       "20150102  20150102  3.003\n",
       "20150105  20150105  2.882\n",
       "20150106  20150106  2.938\n",
       "20150107  20150107  2.871\n",
       "20150108  20150108  2.927\n",
       "20150109  20150109  2.946\n",
       "20150112  20150112  2.795\n",
       "20150113  20150113  2.943\n",
       "20150114  20150114  3.233\n",
       "20150115  20150115  3.158\n",
       "20150116  20150116  3.127\n",
       "20150120  20150120  2.831\n",
       "20150121  20150121  2.974\n",
       "20150122  20150122  2.835\n",
       "20150123  20150123  2.986\n",
       "20150126  20150126  2.881\n",
       "20150127  20150127  2.981\n",
       "20150128  20150128  2.866\n",
       "20150129  20150129  2.719\n",
       "20150130  20150130  2.691\n",
       "20150202  20150202  2.680\n",
       "20150203  20150203  2.754\n",
       "20150204  20150204  2.662\n",
       "20150205  20150205  2.600\n",
       "20150206  20150206  2.579\n",
       "20150209  20150209  2.597\n",
       "20150210  20150210  2.677\n",
       "20150211  20150211  2.797\n",
       "20150212  20150212  2.713\n",
       "20150213  20150213  2.804\n",
       "...            ...    ...\n",
       "20200916  20200916  2.267\n",
       "20200917  20200917  2.042\n",
       "20200918  20200918  2.048\n",
       "20200921  20200921  1.835\n",
       "20200922  20200922  1.834\n",
       "20200923  20200923  2.125\n",
       "20200924  20200924  2.248\n",
       "20200925  20200925  2.139\n",
       "20200928  20200928  2.101\n",
       "20200929  20200929  2.561\n",
       "20200930  20200930  2.527\n",
       "20201001  20201001  2.527\n",
       "20201002  20201002  2.438\n",
       "20201005  20201005  2.615\n",
       "20201006  20201006  2.520\n",
       "20201007  20201007  2.606\n",
       "20201008  20201008  2.627\n",
       "20201009  20201009  2.741\n",
       "20201012  20201012  2.881\n",
       "20201013  20201013  2.855\n",
       "20201014  20201014  2.636\n",
       "20201015  20201015  2.775\n",
       "20201016  20201016  2.773\n",
       "20201019  20201019  2.795\n",
       "20201020  20201020  2.913\n",
       "20201021  20201021  3.023\n",
       "20201022  20201022  3.007\n",
       "20201023  20201023  2.971\n",
       "20201026  20201026  3.024\n",
       "20201027  20201027  3.019\n",
       "\n",
       "[1480 rows x 2 columns]"
      ],
      "text/html": "<div>\n<style scoped>\n    .dataframe tbody tr th:only-of-type {\n        vertical-align: middle;\n    }\n\n    .dataframe tbody tr th {\n        vertical-align: top;\n    }\n\n    .dataframe thead th {\n        text-align: right;\n    }\n</style>\n<table border=\"1\" class=\"dataframe\">\n  <thead>\n    <tr style=\"text-align: right;\">\n      <th></th>\n      <th>Period</th>\n      <th>Value</th>\n    </tr>\n    <tr>\n      <th>Period</th>\n      <th></th>\n      <th></th>\n    </tr>\n  </thead>\n  <tbody>\n    <tr>\n      <th>20150102</th>\n      <td>20150102</td>\n      <td>3.003</td>\n    </tr>\n    <tr>\n      <th>20150105</th>\n      <td>20150105</td>\n      <td>2.882</td>\n    </tr>\n    <tr>\n      <th>20150106</th>\n      <td>20150106</td>\n      <td>2.938</td>\n    </tr>\n    <tr>\n      <th>20150107</th>\n      <td>20150107</td>\n      <td>2.871</td>\n    </tr>\n    <tr>\n      <th>20150108</th>\n      <td>20150108</td>\n      <td>2.927</td>\n    </tr>\n    <tr>\n      <th>20150109</th>\n      <td>20150109</td>\n      <td>2.946</td>\n    </tr>\n    <tr>\n      <th>20150112</th>\n      <td>20150112</td>\n      <td>2.795</td>\n    </tr>\n    <tr>\n      <th>20150113</th>\n      <td>20150113</td>\n      <td>2.943</td>\n    </tr>\n    <tr>\n      <th>20150114</th>\n      <td>20150114</td>\n      <td>3.233</td>\n    </tr>\n    <tr>\n      <th>20150115</th>\n      <td>20150115</td>\n      <td>3.158</td>\n    </tr>\n    <tr>\n      <th>20150116</th>\n      <td>20150116</td>\n      <td>3.127</td>\n    </tr>\n    <tr>\n      <th>20150120</th>\n      <td>20150120</td>\n      <td>2.831</td>\n    </tr>\n    <tr>\n      <th>20150121</th>\n      <td>20150121</td>\n      <td>2.974</td>\n    </tr>\n    <tr>\n      <th>20150122</th>\n      <td>20150122</td>\n      <td>2.835</td>\n    </tr>\n    <tr>\n      <th>20150123</th>\n      <td>20150123</td>\n      <td>2.986</td>\n    </tr>\n    <tr>\n      <th>20150126</th>\n      <td>20150126</td>\n      <td>2.881</td>\n    </tr>\n    <tr>\n      <th>20150127</th>\n      <td>20150127</td>\n      <td>2.981</td>\n    </tr>\n    <tr>\n      <th>20150128</th>\n      <td>20150128</td>\n      <td>2.866</td>\n    </tr>\n    <tr>\n      <th>20150129</th>\n      <td>20150129</td>\n      <td>2.719</td>\n    </tr>\n    <tr>\n      <th>20150130</th>\n      <td>20150130</td>\n      <td>2.691</td>\n    </tr>\n    <tr>\n      <th>20150202</th>\n      <td>20150202</td>\n      <td>2.680</td>\n    </tr>\n    <tr>\n      <th>20150203</th>\n      <td>20150203</td>\n      <td>2.754</td>\n    </tr>\n    <tr>\n      <th>20150204</th>\n      <td>20150204</td>\n      <td>2.662</td>\n    </tr>\n    <tr>\n      <th>20150205</th>\n      <td>20150205</td>\n      <td>2.600</td>\n    </tr>\n    <tr>\n      <th>20150206</th>\n      <td>20150206</td>\n      <td>2.579</td>\n    </tr>\n    <tr>\n      <th>20150209</th>\n      <td>20150209</td>\n      <td>2.597</td>\n    </tr>\n    <tr>\n      <th>20150210</th>\n      <td>20150210</td>\n      <td>2.677</td>\n    </tr>\n    <tr>\n      <th>20150211</th>\n      <td>20150211</td>\n      <td>2.797</td>\n    </tr>\n    <tr>\n      <th>20150212</th>\n      <td>20150212</td>\n      <td>2.713</td>\n    </tr>\n    <tr>\n      <th>20150213</th>\n      <td>20150213</td>\n      <td>2.804</td>\n    </tr>\n    <tr>\n      <th>...</th>\n      <td>...</td>\n      <td>...</td>\n    </tr>\n    <tr>\n      <th>20200916</th>\n      <td>20200916</td>\n      <td>2.267</td>\n    </tr>\n    <tr>\n      <th>20200917</th>\n      <td>20200917</td>\n      <td>2.042</td>\n    </tr>\n    <tr>\n      <th>20200918</th>\n      <td>20200918</td>\n      <td>2.048</td>\n    </tr>\n    <tr>\n      <th>20200921</th>\n      <td>20200921</td>\n      <td>1.835</td>\n    </tr>\n    <tr>\n      <th>20200922</th>\n      <td>20200922</td>\n      <td>1.834</td>\n    </tr>\n    <tr>\n      <th>20200923</th>\n      <td>20200923</td>\n      <td>2.125</td>\n    </tr>\n    <tr>\n      <th>20200924</th>\n      <td>20200924</td>\n      <td>2.248</td>\n    </tr>\n    <tr>\n      <th>20200925</th>\n      <td>20200925</td>\n      <td>2.139</td>\n    </tr>\n    <tr>\n      <th>20200928</th>\n      <td>20200928</td>\n      <td>2.101</td>\n    </tr>\n    <tr>\n      <th>20200929</th>\n      <td>20200929</td>\n      <td>2.561</td>\n    </tr>\n    <tr>\n      <th>20200930</th>\n      <td>20200930</td>\n      <td>2.527</td>\n    </tr>\n    <tr>\n      <th>20201001</th>\n      <td>20201001</td>\n      <td>2.527</td>\n    </tr>\n    <tr>\n      <th>20201002</th>\n      <td>20201002</td>\n      <td>2.438</td>\n    </tr>\n    <tr>\n      <th>20201005</th>\n      <td>20201005</td>\n      <td>2.615</td>\n    </tr>\n    <tr>\n      <th>20201006</th>\n      <td>20201006</td>\n      <td>2.520</td>\n    </tr>\n    <tr>\n      <th>20201007</th>\n      <td>20201007</td>\n      <td>2.606</td>\n    </tr>\n    <tr>\n      <th>20201008</th>\n      <td>20201008</td>\n      <td>2.627</td>\n    </tr>\n    <tr>\n      <th>20201009</th>\n      <td>20201009</td>\n      <td>2.741</td>\n    </tr>\n    <tr>\n      <th>20201012</th>\n      <td>20201012</td>\n      <td>2.881</td>\n    </tr>\n    <tr>\n      <th>20201013</th>\n      <td>20201013</td>\n      <td>2.855</td>\n    </tr>\n    <tr>\n      <th>20201014</th>\n      <td>20201014</td>\n      <td>2.636</td>\n    </tr>\n    <tr>\n      <th>20201015</th>\n      <td>20201015</td>\n      <td>2.775</td>\n    </tr>\n    <tr>\n      <th>20201016</th>\n      <td>20201016</td>\n      <td>2.773</td>\n    </tr>\n    <tr>\n      <th>20201019</th>\n      <td>20201019</td>\n      <td>2.795</td>\n    </tr>\n    <tr>\n      <th>20201020</th>\n      <td>20201020</td>\n      <td>2.913</td>\n    </tr>\n    <tr>\n      <th>20201021</th>\n      <td>20201021</td>\n      <td>3.023</td>\n    </tr>\n    <tr>\n      <th>20201022</th>\n      <td>20201022</td>\n      <td>3.007</td>\n    </tr>\n    <tr>\n      <th>20201023</th>\n      <td>20201023</td>\n      <td>2.971</td>\n    </tr>\n    <tr>\n      <th>20201026</th>\n      <td>20201026</td>\n      <td>3.024</td>\n    </tr>\n    <tr>\n      <th>20201027</th>\n      <td>20201027</td>\n      <td>3.019</td>\n    </tr>\n  </tbody>\n</table>\n<p>1480 rows × 2 columns</p>\n</div>"
     },
     "metadata": {},
     "execution_count": 90
    }
   ],
   "source": [
    "NGFut_df = NGFut_df.drop(columns=[\"Index\", \"Series Name\", \"Frequency\", \"Units\"])\n",
    "NGFut_df.set_index(NGFut_df[\"Period\"], inplace=True)\n",
    "NGFut_df.sort_index()\n"
   ]
  }
 ]
}